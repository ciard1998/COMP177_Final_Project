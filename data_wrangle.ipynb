{
 "cells": [
  {
   "cell_type": "code",
   "execution_count": 3,
   "metadata": {},
   "outputs": [
    {
     "name": "stdout",
     "output_type": "stream",
     "text": [
      "\u001b[32m\u001b[1m  Updating\u001b[22m\u001b[39m registry at `C:\\Users\\ciard\\.juliapro\\JuliaPro_v1.0.5-2\\registries\\JuliaPro`\n",
      "\u001b[32m\u001b[1m  Updating\u001b[22m\u001b[39m git-repo `https://pkg.juliacomputing.com/registry/JuliaPro`\n",
      "\u001b[?25l\u001b[2K\u001b[?25h\u001b[32m\u001b[1m Resolving\u001b[22m\u001b[39m package versions...\n",
      "\u001b[32m\u001b[1m Installed\u001b[22m\u001b[39m DataAPI ───────────────────── v1.1.0\n",
      "\u001b[32m\u001b[1m Installed\u001b[22m\u001b[39m TableTraits ───────────────── v1.0.0\n",
      "\u001b[32m\u001b[1m Installed\u001b[22m\u001b[39m DataValueInterfaces ───────── v1.0.0\n",
      "\u001b[32m\u001b[1m Installed\u001b[22m\u001b[39m IteratorInterfaceExtensions ─ v1.0.0\n",
      "\u001b[32m\u001b[1m Installed\u001b[22m\u001b[39m PooledArrays ──────────────── v0.5.3\n",
      "\u001b[32m\u001b[1m Installed\u001b[22m\u001b[39m WeakRefStrings ────────────── v0.6.2\n",
      "\u001b[32m\u001b[1m Installed\u001b[22m\u001b[39m SortingAlgorithms ─────────── v0.3.1\n",
      "\u001b[32m\u001b[1m Installed\u001b[22m\u001b[39m InvertedIndices ───────────── v1.0.0\n",
      "\u001b[32m\u001b[1m Installed\u001b[22m\u001b[39m FilePathsBase ─────────────── v0.7.0\n",
      "\u001b[32m\u001b[1m Installed\u001b[22m\u001b[39m Missings ──────────────────── v0.4.3\n",
      "\u001b[32m\u001b[1m Installed\u001b[22m\u001b[39m Tables ────────────────────── v1.0.2\n",
      "\u001b[32m\u001b[1m Installed\u001b[22m\u001b[39m CategoricalArrays ─────────── v0.7.7\n",
      "\u001b[32m\u001b[1m Installed\u001b[22m\u001b[39m CSV ───────────────────────── v0.5.26\n",
      "\u001b[32m\u001b[1m Installed\u001b[22m\u001b[39m DataFrames ────────────────── v0.20.2\n",
      "\u001b[32m\u001b[1m  Updating\u001b[22m\u001b[39m `C:\\Users\\ciard\\.juliapro\\JuliaPro_v1.0.5-2\\environments\\v1.0\\Project.toml`\n",
      " \u001b[90m [336ed68f]\u001b[39m\u001b[92m + CSV v0.5.26\u001b[39m\n",
      "\u001b[32m\u001b[1m  Updating\u001b[22m\u001b[39m `C:\\Users\\ciard\\.juliapro\\JuliaPro_v1.0.5-2\\environments\\v1.0\\Manifest.toml`\n",
      " \u001b[90m [336ed68f]\u001b[39m\u001b[92m + CSV v0.5.26\u001b[39m\n",
      " \u001b[90m [324d7699]\u001b[39m\u001b[92m + CategoricalArrays v0.7.7\u001b[39m\n",
      " \u001b[90m [9a962f9c]\u001b[39m\u001b[92m + DataAPI v1.1.0\u001b[39m\n",
      " \u001b[90m [a93c6f00]\u001b[39m\u001b[92m + DataFrames v0.20.2\u001b[39m\n",
      " \u001b[90m [e2d170a0]\u001b[39m\u001b[92m + DataValueInterfaces v1.0.0\u001b[39m\n",
      " \u001b[90m [48062228]\u001b[39m\u001b[92m + FilePathsBase v0.7.0\u001b[39m\n",
      " \u001b[90m [41ab1584]\u001b[39m\u001b[92m + InvertedIndices v1.0.0\u001b[39m\n",
      " \u001b[90m [82899510]\u001b[39m\u001b[92m + IteratorInterfaceExtensions v1.0.0\u001b[39m\n",
      " \u001b[90m [e1d29d7a]\u001b[39m\u001b[92m + Missings v0.4.3\u001b[39m\n",
      " \u001b[90m [2dfb63ee]\u001b[39m\u001b[92m + PooledArrays v0.5.3\u001b[39m\n",
      " \u001b[90m [a2af1166]\u001b[39m\u001b[92m + SortingAlgorithms v0.3.1\u001b[39m\n",
      " \u001b[90m [3783bdb8]\u001b[39m\u001b[92m + TableTraits v1.0.0\u001b[39m\n",
      " \u001b[90m [bd369af6]\u001b[39m\u001b[92m + Tables v1.0.2\u001b[39m\n",
      " \u001b[90m [ea10d353]\u001b[39m\u001b[92m + WeakRefStrings v0.6.2\u001b[39m\n",
      " \u001b[90m [9fa8497b]\u001b[39m\u001b[92m + Future \u001b[39m\n"
     ]
    }
   ],
   "source": [
    "using Pkg\n",
    "Pkg.add(\"CSV\")"
   ]
  },
  {
   "cell_type": "code",
   "execution_count": 5,
   "metadata": {},
   "outputs": [
    {
     "name": "stderr",
     "output_type": "stream",
     "text": [
      "┌ Info: Precompiling CSV [336ed68f-0bac-5ca0-87d4-7b16caf5d00b]\n",
      "└ @ Base loading.jl:1192\n"
     ]
    },
    {
     "data": {
      "text/html": [
       "<table class=\"data-frame\"><thead><tr><th></th><th>Undergraduate Major</th><th>Starting Median Salary</th><th>Mid-Career Median Salary</th><th>Percent change from Starting to Mid-Career Salary</th></tr><tr><th></th><th>String</th><th>String</th><th>String</th><th>Float64</th></tr></thead><tbody><p>50 rows × 8 columns (omitted printing of 4 columns)</p><tr><th>1</th><td>Accounting</td><td>$46,000.00</td><td>$77,100.00</td><td>67.6</td></tr><tr><th>2</th><td>Aerospace Engineering</td><td>$57,700.00</td><td>$101,000.00</td><td>75.0</td></tr><tr><th>3</th><td>Agriculture</td><td>$42,600.00</td><td>$71,900.00</td><td>68.8</td></tr><tr><th>4</th><td>Anthropology</td><td>$36,800.00</td><td>$61,500.00</td><td>67.1</td></tr><tr><th>5</th><td>Architecture</td><td>$41,600.00</td><td>$76,800.00</td><td>84.6</td></tr><tr><th>6</th><td>Art History</td><td>$35,800.00</td><td>$64,900.00</td><td>81.3</td></tr><tr><th>7</th><td>Biology</td><td>$38,800.00</td><td>$64,800.00</td><td>67.0</td></tr><tr><th>8</th><td>Business Management</td><td>$43,000.00</td><td>$72,100.00</td><td>67.7</td></tr><tr><th>9</th><td>Chemical Engineering</td><td>$63,200.00</td><td>$107,000.00</td><td>69.3</td></tr><tr><th>10</th><td>Chemistry</td><td>$42,600.00</td><td>$79,900.00</td><td>87.6</td></tr><tr><th>11</th><td>Civil Engineering</td><td>$53,900.00</td><td>$90,500.00</td><td>67.9</td></tr><tr><th>12</th><td>Communications</td><td>$38,100.00</td><td>$70,000.00</td><td>83.7</td></tr><tr><th>13</th><td>Computer Engineering</td><td>$61,400.00</td><td>$105,000.00</td><td>71.0</td></tr><tr><th>14</th><td>Computer Science</td><td>$55,900.00</td><td>$95,500.00</td><td>70.8</td></tr><tr><th>15</th><td>Construction</td><td>$53,700.00</td><td>$88,900.00</td><td>65.5</td></tr><tr><th>16</th><td>Criminal Justice</td><td>$35,000.00</td><td>$56,300.00</td><td>60.9</td></tr><tr><th>17</th><td>Drama</td><td>$35,900.00</td><td>$56,900.00</td><td>58.5</td></tr><tr><th>18</th><td>Economics</td><td>$50,100.00</td><td>$98,600.00</td><td>96.8</td></tr><tr><th>19</th><td>Education</td><td>$34,900.00</td><td>$52,000.00</td><td>49.0</td></tr><tr><th>20</th><td>Electrical Engineering</td><td>$60,900.00</td><td>$103,000.00</td><td>69.1</td></tr><tr><th>21</th><td>English</td><td>$38,000.00</td><td>$64,700.00</td><td>70.3</td></tr><tr><th>22</th><td>Film</td><td>$37,900.00</td><td>$68,500.00</td><td>80.7</td></tr><tr><th>23</th><td>Finance</td><td>$47,900.00</td><td>$88,300.00</td><td>84.3</td></tr><tr><th>24</th><td>Forestry</td><td>$39,100.00</td><td>$62,600.00</td><td>60.1</td></tr><tr><th>25</th><td>Geography</td><td>$41,200.00</td><td>$65,500.00</td><td>59.0</td></tr><tr><th>26</th><td>Geology</td><td>$43,500.00</td><td>$79,500.00</td><td>82.8</td></tr><tr><th>27</th><td>Graphic Design</td><td>$35,700.00</td><td>$59,800.00</td><td>67.5</td></tr><tr><th>28</th><td>Health Care Administration</td><td>$38,800.00</td><td>$60,600.00</td><td>56.2</td></tr><tr><th>29</th><td>History</td><td>$39,200.00</td><td>$71,000.00</td><td>81.1</td></tr><tr><th>30</th><td>Hospitality &amp; Tourism</td><td>$37,800.00</td><td>$57,500.00</td><td>52.1</td></tr><tr><th>&vellip;</th><td>&vellip;</td><td>&vellip;</td><td>&vellip;</td><td>&vellip;</td></tr></tbody></table>"
      ],
      "text/latex": [
       "\\begin{tabular}{r|ccccc}\n",
       "\t& Undergraduate Major & Starting Median Salary & Mid-Career Median Salary & Percent change from Starting to Mid-Career Salary & \\\\\n",
       "\t\\hline\n",
       "\t& String & String & String & Float64 & \\\\\n",
       "\t\\hline\n",
       "\t1 & Accounting & \\$46,000.00 & \\$77,100.00 & 67.6 & $\\dots$ \\\\\n",
       "\t2 & Aerospace Engineering & \\$57,700.00 & \\$101,000.00 & 75.0 & $\\dots$ \\\\\n",
       "\t3 & Agriculture & \\$42,600.00 & \\$71,900.00 & 68.8 & $\\dots$ \\\\\n",
       "\t4 & Anthropology & \\$36,800.00 & \\$61,500.00 & 67.1 & $\\dots$ \\\\\n",
       "\t5 & Architecture & \\$41,600.00 & \\$76,800.00 & 84.6 & $\\dots$ \\\\\n",
       "\t6 & Art History & \\$35,800.00 & \\$64,900.00 & 81.3 & $\\dots$ \\\\\n",
       "\t7 & Biology & \\$38,800.00 & \\$64,800.00 & 67.0 & $\\dots$ \\\\\n",
       "\t8 & Business Management & \\$43,000.00 & \\$72,100.00 & 67.7 & $\\dots$ \\\\\n",
       "\t9 & Chemical Engineering & \\$63,200.00 & \\$107,000.00 & 69.3 & $\\dots$ \\\\\n",
       "\t10 & Chemistry & \\$42,600.00 & \\$79,900.00 & 87.6 & $\\dots$ \\\\\n",
       "\t11 & Civil Engineering & \\$53,900.00 & \\$90,500.00 & 67.9 & $\\dots$ \\\\\n",
       "\t12 & Communications & \\$38,100.00 & \\$70,000.00 & 83.7 & $\\dots$ \\\\\n",
       "\t13 & Computer Engineering & \\$61,400.00 & \\$105,000.00 & 71.0 & $\\dots$ \\\\\n",
       "\t14 & Computer Science & \\$55,900.00 & \\$95,500.00 & 70.8 & $\\dots$ \\\\\n",
       "\t15 & Construction & \\$53,700.00 & \\$88,900.00 & 65.5 & $\\dots$ \\\\\n",
       "\t16 & Criminal Justice & \\$35,000.00 & \\$56,300.00 & 60.9 & $\\dots$ \\\\\n",
       "\t17 & Drama & \\$35,900.00 & \\$56,900.00 & 58.5 & $\\dots$ \\\\\n",
       "\t18 & Economics & \\$50,100.00 & \\$98,600.00 & 96.8 & $\\dots$ \\\\\n",
       "\t19 & Education & \\$34,900.00 & \\$52,000.00 & 49.0 & $\\dots$ \\\\\n",
       "\t20 & Electrical Engineering & \\$60,900.00 & \\$103,000.00 & 69.1 & $\\dots$ \\\\\n",
       "\t21 & English & \\$38,000.00 & \\$64,700.00 & 70.3 & $\\dots$ \\\\\n",
       "\t22 & Film & \\$37,900.00 & \\$68,500.00 & 80.7 & $\\dots$ \\\\\n",
       "\t23 & Finance & \\$47,900.00 & \\$88,300.00 & 84.3 & $\\dots$ \\\\\n",
       "\t24 & Forestry & \\$39,100.00 & \\$62,600.00 & 60.1 & $\\dots$ \\\\\n",
       "\t25 & Geography & \\$41,200.00 & \\$65,500.00 & 59.0 & $\\dots$ \\\\\n",
       "\t26 & Geology & \\$43,500.00 & \\$79,500.00 & 82.8 & $\\dots$ \\\\\n",
       "\t27 & Graphic Design & \\$35,700.00 & \\$59,800.00 & 67.5 & $\\dots$ \\\\\n",
       "\t28 & Health Care Administration & \\$38,800.00 & \\$60,600.00 & 56.2 & $\\dots$ \\\\\n",
       "\t29 & History & \\$39,200.00 & \\$71,000.00 & 81.1 & $\\dots$ \\\\\n",
       "\t30 & Hospitality \\& Tourism & \\$37,800.00 & \\$57,500.00 & 52.1 & $\\dots$ \\\\\n",
       "\t$\\dots$ & $\\dots$ & $\\dots$ & $\\dots$ & $\\dots$ &  \\\\\n",
       "\\end{tabular}\n"
      ],
      "text/plain": [
       "50×8 DataFrames.DataFrame. Omitted printing of 6 columns\n",
       "│ Row │ Undergraduate Major   │ Starting Median Salary │\n",
       "│     │ \u001b[90mString\u001b[39m                │ \u001b[90mString\u001b[39m                 │\n",
       "├─────┼───────────────────────┼────────────────────────┤\n",
       "│ 1   │ Accounting            │ $46,000.00             │\n",
       "│ 2   │ Aerospace Engineering │ $57,700.00             │\n",
       "│ 3   │ Agriculture           │ $42,600.00             │\n",
       "│ 4   │ Anthropology          │ $36,800.00             │\n",
       "│ 5   │ Architecture          │ $41,600.00             │\n",
       "│ 6   │ Art History           │ $35,800.00             │\n",
       "│ 7   │ Biology               │ $38,800.00             │\n",
       "│ 8   │ Business Management   │ $43,000.00             │\n",
       "│ 9   │ Chemical Engineering  │ $63,200.00             │\n",
       "│ 10  │ Chemistry             │ $42,600.00             │\n",
       "⋮\n",
       "│ 40  │ Music                 │ $35,900.00             │\n",
       "│ 41  │ Nursing               │ $54,200.00             │\n",
       "│ 42  │ Nutrition             │ $39,900.00             │\n",
       "│ 43  │ Philosophy            │ $39,900.00             │\n",
       "│ 44  │ Physician Assistant   │ $74,300.00             │\n",
       "│ 45  │ Physics               │ $50,300.00             │\n",
       "│ 46  │ Political Science     │ $40,800.00             │\n",
       "│ 47  │ Psychology            │ $35,900.00             │\n",
       "│ 48  │ Religion              │ $34,100.00             │\n",
       "│ 49  │ Sociology             │ $36,500.00             │\n",
       "│ 50  │ Spanish               │ $34,000.00             │"
      ]
     },
     "execution_count": 5,
     "metadata": {},
     "output_type": "execute_result"
    }
   ],
   "source": [
    "using CSV\n",
    "df = CSV.read(\"degrees-that-pay-back.csv\")"
   ]
  },
  {
   "cell_type": "code",
   "execution_count": 7,
   "metadata": {},
   "outputs": [
    {
     "name": "stdout",
     "output_type": "stream",
     "text": [
      "\u001b[32m\u001b[1m Resolving\u001b[22m\u001b[39m package versions...\n",
      "\u001b[32m\u001b[1m  Updating\u001b[22m\u001b[39m `C:\\Users\\ciard\\.juliapro\\JuliaPro_v1.0.5-2\\environments\\v1.0\\Project.toml`\n",
      " \u001b[90m [a93c6f00]\u001b[39m\u001b[92m + DataFrames v0.20.2\u001b[39m\n",
      "\u001b[32m\u001b[1m  Updating\u001b[22m\u001b[39m `C:\\Users\\ciard\\.juliapro\\JuliaPro_v1.0.5-2\\environments\\v1.0\\Manifest.toml`\n",
      "\u001b[90m [no changes]\u001b[39m\n"
     ]
    }
   ],
   "source": [
    "Pkg.add(\"DataFrames\")"
   ]
  },
  {
   "cell_type": "code",
   "execution_count": 44,
   "metadata": {},
   "outputs": [
    {
     "data": {
      "text/plain": [
       "#9 (generic function with 1 method)"
      ]
     },
     "execution_count": 44,
     "metadata": {},
     "output_type": "execute_result"
    }
   ],
   "source": [
    "using DataFrames\n",
    "stripChar = (s, r) -> replace(s, Regex(\"[$r]\") => \"\")"
   ]
  },
  {
   "cell_type": "code",
   "execution_count": 64,
   "metadata": {
    "scrolled": true
   },
   "outputs": [
    {
     "data": {
      "text/plain": [
       "8-element Array{Symbol,1}:\n",
       " Symbol(\"Undergraduate Major\")                              \n",
       " Symbol(\"Starting Median Salary\")                           \n",
       " Symbol(\"Mid-Career Median Salary\")                         \n",
       " Symbol(\"Percent change from Starting to Mid-Career Salary\")\n",
       " Symbol(\"Mid-Career 10th Percentile Salary\")                \n",
       " Symbol(\"Mid-Career 25th Percentile Salary\")                \n",
       " Symbol(\"Mid-Career 75th Percentile Salary\")                \n",
       " Symbol(\"Mid-Career 90th Percentile Salary\")                "
      ]
     },
     "execution_count": 64,
     "metadata": {},
     "output_type": "execute_result"
    }
   ],
   "source": [
    "names(df)"
   ]
  },
  {
   "cell_type": "code",
   "execution_count": 81,
   "metadata": {},
   "outputs": [
    {
     "data": {
      "text/plain": [
       "50-element Array{Float64,1}:\n",
       " 44000.0\n",
       " 34000.0\n",
       " 53700.0\n",
       " 48700.0\n",
       " 39000.0\n",
       " 37600.0\n",
       " 40500.0\n",
       " 45000.0\n",
       " 51000.0\n",
       " 40000.0\n",
       " 33000.0\n",
       " 44200.0\n",
       " 27000.0\n",
       "     ⋮  \n",
       " 43000.0\n",
       " 46000.0\n",
       " 17400.0\n",
       " 28700.0\n",
       " 41000.0\n",
       " 16000.0\n",
       " 46000.0\n",
       " 54000.0\n",
       " 39500.0\n",
       " 25500.0\n",
       " 36800.0\n",
       " 19600.0"
      ]
     },
     "execution_count": 81,
     "metadata": {},
     "output_type": "execute_result"
    }
   ],
   "source": [
    "start_med = parse.(Float64, stripChar.(df[:, 2], \"\\$,\"))\n",
    "percent_change = df[:, 4]\n",
    "mid_med_10 = parse.(Float64, stripChar.(df[:, 5], \"\\$,\"))\n",
    "mid_med_25 = parse.(Float64, stripChar.(df[:, 6], \"\\$,\")) .- mid_med_10\n",
    "mid_med = parse.(Float64, stripChar.(df[:, 3], \"\\$,\")) .- mid_med_25 .- mid_med_10\n",
    "mid_med_75 = parse.(Float64, stripChar.(df[:, 7], \"\\$,\")) .- mid_med .- mid_med_25 .- mid_med_10\n",
    "mid_med_90 = parse.(Float64, stripChar.(df[:, 8], \"\\$,\")) .- mid_med_75 .- mid_med .- mid_med_25 .- mid_med_10"
   ]
  },
  {
   "cell_type": "code",
   "execution_count": 87,
   "metadata": {},
   "outputs": [
    {
     "data": {
      "text/html": [
       "<table class=\"data-frame\"><thead><tr><th></th><th>Major</th><th>Mid-Career 10th Percentile</th><th>Mid-Career 25th Percentile</th></tr><tr><th></th><th>String</th><th>Float64</th><th>Float64</th></tr></thead><tbody><p>50 rows × 7 columns (omitted printing of 4 columns)</p><tr><th>1</th><td>Accounting</td><td>42200.0</td><td>13900.0</td></tr><tr><th>2</th><td>Aerospace Engineering</td><td>64300.0</td><td>17800.0</td></tr><tr><th>3</th><td>Agriculture</td><td>36300.0</td><td>15800.0</td></tr><tr><th>4</th><td>Anthropology</td><td>33800.0</td><td>11700.0</td></tr><tr><th>5</th><td>Architecture</td><td>50600.0</td><td>11600.0</td></tr><tr><th>6</th><td>Art History</td><td>28800.0</td><td>13400.0</td></tr><tr><th>7</th><td>Biology</td><td>36900.0</td><td>10500.0</td></tr><tr><th>8</th><td>Business Management</td><td>38800.0</td><td>12700.0</td></tr><tr><th>9</th><td>Chemical Engineering</td><td>71900.0</td><td>15400.0</td></tr><tr><th>10</th><td>Chemistry</td><td>45300.0</td><td>15400.0</td></tr><tr><th>11</th><td>Civil Engineering</td><td>63400.0</td><td>11700.0</td></tr><tr><th>12</th><td>Communications</td><td>37500.0</td><td>12200.0</td></tr><tr><th>13</th><td>Computer Engineering</td><td>66100.0</td><td>18000.0</td></tr><tr><th>14</th><td>Computer Science</td><td>56000.0</td><td>18900.0</td></tr><tr><th>15</th><td>Construction</td><td>56300.0</td><td>11800.0</td></tr><tr><th>16</th><td>Criminal Justice</td><td>32200.0</td><td>9400.0</td></tr><tr><th>17</th><td>Drama</td><td>36700.0</td><td>4600.0</td></tr><tr><th>18</th><td>Economics</td><td>50600.0</td><td>20000.0</td></tr><tr><th>19</th><td>Education</td><td>29300.0</td><td>8600.0</td></tr><tr><th>20</th><td>Electrical Engineering</td><td>69300.0</td><td>14500.0</td></tr><tr><th>21</th><td>English</td><td>33400.0</td><td>11400.0</td></tr><tr><th>22</th><td>Film</td><td>33900.0</td><td>11600.0</td></tr><tr><th>23</th><td>Finance</td><td>47200.0</td><td>14900.0</td></tr><tr><th>24</th><td>Forestry</td><td>41000.0</td><td>8300.0</td></tr><tr><th>25</th><td>Geography</td><td>40000.0</td><td>10000.0</td></tr><tr><th>26</th><td>Geology</td><td>45000.0</td><td>14600.0</td></tr><tr><th>27</th><td>Graphic Design</td><td>36000.0</td><td>9500.0</td></tr><tr><th>28</th><td>Health Care Administration</td><td>34600.0</td><td>11000.0</td></tr><tr><th>29</th><td>History</td><td>37000.0</td><td>12200.0</td></tr><tr><th>30</th><td>Hospitality &amp; Tourism</td><td>35500.0</td><td>8100.0</td></tr><tr><th>&vellip;</th><td>&vellip;</td><td>&vellip;</td><td>&vellip;</td></tr></tbody></table>"
      ],
      "text/latex": [
       "\\begin{tabular}{r|cccc}\n",
       "\t& Major & Mid-Career 10th Percentile & Mid-Career 25th Percentile & \\\\\n",
       "\t\\hline\n",
       "\t& String & Float64 & Float64 & \\\\\n",
       "\t\\hline\n",
       "\t1 & Accounting & 42200.0 & 13900.0 & $\\dots$ \\\\\n",
       "\t2 & Aerospace Engineering & 64300.0 & 17800.0 & $\\dots$ \\\\\n",
       "\t3 & Agriculture & 36300.0 & 15800.0 & $\\dots$ \\\\\n",
       "\t4 & Anthropology & 33800.0 & 11700.0 & $\\dots$ \\\\\n",
       "\t5 & Architecture & 50600.0 & 11600.0 & $\\dots$ \\\\\n",
       "\t6 & Art History & 28800.0 & 13400.0 & $\\dots$ \\\\\n",
       "\t7 & Biology & 36900.0 & 10500.0 & $\\dots$ \\\\\n",
       "\t8 & Business Management & 38800.0 & 12700.0 & $\\dots$ \\\\\n",
       "\t9 & Chemical Engineering & 71900.0 & 15400.0 & $\\dots$ \\\\\n",
       "\t10 & Chemistry & 45300.0 & 15400.0 & $\\dots$ \\\\\n",
       "\t11 & Civil Engineering & 63400.0 & 11700.0 & $\\dots$ \\\\\n",
       "\t12 & Communications & 37500.0 & 12200.0 & $\\dots$ \\\\\n",
       "\t13 & Computer Engineering & 66100.0 & 18000.0 & $\\dots$ \\\\\n",
       "\t14 & Computer Science & 56000.0 & 18900.0 & $\\dots$ \\\\\n",
       "\t15 & Construction & 56300.0 & 11800.0 & $\\dots$ \\\\\n",
       "\t16 & Criminal Justice & 32200.0 & 9400.0 & $\\dots$ \\\\\n",
       "\t17 & Drama & 36700.0 & 4600.0 & $\\dots$ \\\\\n",
       "\t18 & Economics & 50600.0 & 20000.0 & $\\dots$ \\\\\n",
       "\t19 & Education & 29300.0 & 8600.0 & $\\dots$ \\\\\n",
       "\t20 & Electrical Engineering & 69300.0 & 14500.0 & $\\dots$ \\\\\n",
       "\t21 & English & 33400.0 & 11400.0 & $\\dots$ \\\\\n",
       "\t22 & Film & 33900.0 & 11600.0 & $\\dots$ \\\\\n",
       "\t23 & Finance & 47200.0 & 14900.0 & $\\dots$ \\\\\n",
       "\t24 & Forestry & 41000.0 & 8300.0 & $\\dots$ \\\\\n",
       "\t25 & Geography & 40000.0 & 10000.0 & $\\dots$ \\\\\n",
       "\t26 & Geology & 45000.0 & 14600.0 & $\\dots$ \\\\\n",
       "\t27 & Graphic Design & 36000.0 & 9500.0 & $\\dots$ \\\\\n",
       "\t28 & Health Care Administration & 34600.0 & 11000.0 & $\\dots$ \\\\\n",
       "\t29 & History & 37000.0 & 12200.0 & $\\dots$ \\\\\n",
       "\t30 & Hospitality \\& Tourism & 35500.0 & 8100.0 & $\\dots$ \\\\\n",
       "\t$\\dots$ & $\\dots$ & $\\dots$ & $\\dots$ &  \\\\\n",
       "\\end{tabular}\n"
      ],
      "text/plain": [
       "50×7 DataFrame. Omitted printing of 5 columns\n",
       "│ Row │ Major                 │ Mid-Career 10th Percentile │\n",
       "│     │ \u001b[90mString\u001b[39m                │ \u001b[90mFloat64\u001b[39m                    │\n",
       "├─────┼───────────────────────┼────────────────────────────┤\n",
       "│ 1   │ Accounting            │ 42200.0                    │\n",
       "│ 2   │ Aerospace Engineering │ 64300.0                    │\n",
       "│ 3   │ Agriculture           │ 36300.0                    │\n",
       "│ 4   │ Anthropology          │ 33800.0                    │\n",
       "│ 5   │ Architecture          │ 50600.0                    │\n",
       "│ 6   │ Art History           │ 28800.0                    │\n",
       "│ 7   │ Biology               │ 36900.0                    │\n",
       "│ 8   │ Business Management   │ 38800.0                    │\n",
       "│ 9   │ Chemical Engineering  │ 71900.0                    │\n",
       "│ 10  │ Chemistry             │ 45300.0                    │\n",
       "⋮\n",
       "│ 40  │ Music                 │ 26700.0                    │\n",
       "│ 41  │ Nursing               │ 47600.0                    │\n",
       "│ 42  │ Nutrition             │ 33900.0                    │\n",
       "│ 43  │ Philosophy            │ 35500.0                    │\n",
       "│ 44  │ Physician Assistant   │ 66400.0                    │\n",
       "│ 45  │ Physics               │ 56000.0                    │\n",
       "│ 46  │ Political Science     │ 41200.0                    │\n",
       "│ 47  │ Psychology            │ 31600.0                    │\n",
       "│ 48  │ Religion              │ 29700.0                    │\n",
       "│ 49  │ Sociology             │ 30700.0                    │\n",
       "│ 50  │ Spanish               │ 31000.0                    │"
      ]
     },
     "execution_count": 87,
     "metadata": {},
     "output_type": "execute_result"
    }
   ],
   "source": [
    "major_df = DataFrame(Dict(\"Major\" => df[:, 1], \"Starting Median Salary\"=>start_med, \"Mid-Career 10th Percentile\"=>mid_med_10, \"Mid-Career 25th Percentile\"=>mid_med_25, \"Mid-Career 50th Percentile\"=>mid_med, \"Mid-Career 75th Percentile\"=>mid_med_75, \"Mid-Career 90th Percentile\"=>mid_med_90))"
   ]
  },
  {
   "cell_type": "code",
   "execution_count": 89,
   "metadata": {},
   "outputs": [
    {
     "data": {
      "text/plain": [
       "7-element Array{Symbol,1}:\n",
       " :Major                              \n",
       " Symbol(\"Mid-Career 10th Percentile\")\n",
       " Symbol(\"Mid-Career 25th Percentile\")\n",
       " Symbol(\"Mid-Career 50th Percentile\")\n",
       " Symbol(\"Mid-Career 75th Percentile\")\n",
       " Symbol(\"Mid-Career 90th Percentile\")\n",
       " Symbol(\"Starting Median Salary\")    "
      ]
     },
     "execution_count": 89,
     "metadata": {},
     "output_type": "execute_result"
    }
   ],
   "source": [
    "names(major_df)"
   ]
  },
  {
   "cell_type": "code",
   "execution_count": 88,
   "metadata": {},
   "outputs": [
    {
     "data": {
      "text/plain": [
       "\"degrees.csv\""
      ]
     },
     "execution_count": 88,
     "metadata": {},
     "output_type": "execute_result"
    }
   ],
   "source": [
    "CSV.write(\"degrees.csv\", major_df)"
   ]
  }
 ],
 "metadata": {
  "kernelspec": {
   "display_name": "Julia 1.0.5",
   "language": "julia",
   "name": "julia-1.0"
  },
  "language_info": {
   "file_extension": ".jl",
   "mimetype": "application/julia",
   "name": "julia",
   "version": "1.0.5"
  }
 },
 "nbformat": 4,
 "nbformat_minor": 4
}
