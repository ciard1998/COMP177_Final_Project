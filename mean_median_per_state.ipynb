{
 "cells": [
  {
   "cell_type": "code",
   "execution_count": 2,
   "metadata": {},
   "outputs": [
    {
     "data": {
      "text/html": [
       "<table class=\"data-frame\"><thead><tr><th></th><th>School Name</th><th>State</th><th>Longitude</th><th>Latitude</th></tr><tr><th></th><th>String</th><th>String</th><th>Float64</th><th>Float64</th></tr></thead><tbody><p>321 rows × 15 columns (omitted printing of 11 columns)</p><tr><th>1</th><td>Adelphi University</td><td>NY</td><td>-73.6533</td><td>40.7214</td></tr><tr><th>2</th><td>American University, Washington D.C.</td><td>DC</td><td>-77.0889</td><td>38.9369</td></tr><tr><th>3</th><td>Amherst College</td><td>MA</td><td>-72.5185</td><td>42.3725</td></tr><tr><th>4</th><td>Appalachian State University</td><td>NC</td><td>-81.6775</td><td>36.2127</td></tr><tr><th>5</th><td>Arizona State University (ASU)</td><td>AZ</td><td>-111.928</td><td>33.4246</td></tr><tr><th>6</th><td>Arkansas State University (ASU)</td><td>AR</td><td>-90.6796</td><td>35.8411</td></tr><tr><th>7</th><td>Auburn University</td><td>AL</td><td>-85.4924</td><td>32.6002</td></tr><tr><th>8</th><td>Austin Peay State University</td><td>TN</td><td>-87.3541</td><td>36.5333</td></tr><tr><th>9</th><td>Ball State University (BSU)</td><td>IN</td><td>-85.4088</td><td>40.2</td></tr><tr><th>10</th><td>Bates College</td><td>ME</td><td>-70.2033</td><td>44.1053</td></tr><tr><th>11</th><td>Baylor University</td><td>TX</td><td>-97.1185</td><td>31.5461</td></tr><tr><th>12</th><td>Binghamton University</td><td>NY</td><td>-75.9711</td><td>42.088</td></tr><tr><th>13</th><td>Black Hills State University</td><td>SD</td><td>-103.872</td><td>44.4951</td></tr><tr><th>14</th><td>Boise State University (BSU)</td><td>ID</td><td>-116.206</td><td>43.6044</td></tr><tr><th>15</th><td>Boston College</td><td>MA</td><td>-71.1692</td><td>42.3362</td></tr><tr><th>16</th><td>Boston University</td><td>MA</td><td>-71.0998</td><td>42.3496</td></tr><tr><th>17</th><td>Bowdoin College</td><td>ME</td><td>-69.9639</td><td>43.9071</td></tr><tr><th>18</th><td>Bowling Green State University</td><td>OH</td><td>-83.6375</td><td>41.377</td></tr><tr><th>19</th><td>Bradley University</td><td>IL</td><td>-89.6168</td><td>40.6982</td></tr><tr><th>20</th><td>Brigham Young University (BYU)</td><td>UT</td><td>-111.649</td><td>40.2518</td></tr><tr><th>21</th><td>Brown University</td><td>RI</td><td>-71.4029</td><td>41.8269</td></tr><tr><th>22</th><td>Bucknell University</td><td>PA</td><td>-76.8852</td><td>40.9537</td></tr><tr><th>23</th><td>Cal Poly San Luis Obispo</td><td>CA</td><td>-120.662</td><td>35.3024</td></tr><tr><th>24</th><td>California Institute of Technology (CIT)</td><td>CA</td><td>-118.126</td><td>34.1392</td></tr><tr><th>25</th><td>California State University (CSU), Chico</td><td>CA</td><td>-121.846</td><td>39.728</td></tr><tr><th>26</th><td>California State University (CSU), Stanislaus</td><td>CA</td><td>-120.853</td><td>37.5258</td></tr><tr><th>27</th><td>California State University, Dominguez Hills (CSUDH)</td><td>CA</td><td>-118.259</td><td>33.8653</td></tr><tr><th>28</th><td>California State University, East Bay (CSUEB)</td><td>CA</td><td>-122.058</td><td>37.6571</td></tr><tr><th>29</th><td>California State University, Fullerton (CSUF)</td><td>CA</td><td>-117.886</td><td>33.8833</td></tr><tr><th>30</th><td>California State University, Long Beach (CSULB)</td><td>CA</td><td>-118.112</td><td>33.7828</td></tr><tr><th>&vellip;</th><td>&vellip;</td><td>&vellip;</td><td>&vellip;</td><td>&vellip;</td></tr></tbody></table>"
      ],
      "text/latex": [
       "\\begin{tabular}{r|ccccc}\n",
       "\t& School Name & State & Longitude & Latitude & \\\\\n",
       "\t\\hline\n",
       "\t& String & String & Float64 & Float64 & \\\\\n",
       "\t\\hline\n",
       "\t1 & Adelphi University & NY & -73.6533 & 40.7214 & $\\dots$ \\\\\n",
       "\t2 & American University, Washington D.C. & DC & -77.0889 & 38.9369 & $\\dots$ \\\\\n",
       "\t3 & Amherst College & MA & -72.5185 & 42.3725 & $\\dots$ \\\\\n",
       "\t4 & Appalachian State University & NC & -81.6775 & 36.2127 & $\\dots$ \\\\\n",
       "\t5 & Arizona State University (ASU) & AZ & -111.928 & 33.4246 & $\\dots$ \\\\\n",
       "\t6 & Arkansas State University (ASU) & AR & -90.6796 & 35.8411 & $\\dots$ \\\\\n",
       "\t7 & Auburn University & AL & -85.4924 & 32.6002 & $\\dots$ \\\\\n",
       "\t8 & Austin Peay State University & TN & -87.3541 & 36.5333 & $\\dots$ \\\\\n",
       "\t9 & Ball State University (BSU) & IN & -85.4088 & 40.2 & $\\dots$ \\\\\n",
       "\t10 & Bates College & ME & -70.2033 & 44.1053 & $\\dots$ \\\\\n",
       "\t11 & Baylor University & TX & -97.1185 & 31.5461 & $\\dots$ \\\\\n",
       "\t12 & Binghamton University & NY & -75.9711 & 42.088 & $\\dots$ \\\\\n",
       "\t13 & Black Hills State University & SD & -103.872 & 44.4951 & $\\dots$ \\\\\n",
       "\t14 & Boise State University (BSU) & ID & -116.206 & 43.6044 & $\\dots$ \\\\\n",
       "\t15 & Boston College & MA & -71.1692 & 42.3362 & $\\dots$ \\\\\n",
       "\t16 & Boston University & MA & -71.0998 & 42.3496 & $\\dots$ \\\\\n",
       "\t17 & Bowdoin College & ME & -69.9639 & 43.9071 & $\\dots$ \\\\\n",
       "\t18 & Bowling Green State University & OH & -83.6375 & 41.377 & $\\dots$ \\\\\n",
       "\t19 & Bradley University & IL & -89.6168 & 40.6982 & $\\dots$ \\\\\n",
       "\t20 & Brigham Young University (BYU) & UT & -111.649 & 40.2518 & $\\dots$ \\\\\n",
       "\t21 & Brown University & RI & -71.4029 & 41.8269 & $\\dots$ \\\\\n",
       "\t22 & Bucknell University & PA & -76.8852 & 40.9537 & $\\dots$ \\\\\n",
       "\t23 & Cal Poly San Luis Obispo & CA & -120.662 & 35.3024 & $\\dots$ \\\\\n",
       "\t24 & California Institute of Technology (CIT) & CA & -118.126 & 34.1392 & $\\dots$ \\\\\n",
       "\t25 & California State University (CSU), Chico & CA & -121.846 & 39.728 & $\\dots$ \\\\\n",
       "\t26 & California State University (CSU), Stanislaus & CA & -120.853 & 37.5258 & $\\dots$ \\\\\n",
       "\t27 & California State University, Dominguez Hills (CSUDH) & CA & -118.259 & 33.8653 & $\\dots$ \\\\\n",
       "\t28 & California State University, East Bay (CSUEB) & CA & -122.058 & 37.6571 & $\\dots$ \\\\\n",
       "\t29 & California State University, Fullerton (CSUF) & CA & -117.886 & 33.8833 & $\\dots$ \\\\\n",
       "\t30 & California State University, Long Beach (CSULB) & CA & -118.112 & 33.7828 & $\\dots$ \\\\\n",
       "\t$\\dots$ & $\\dots$ & $\\dots$ & $\\dots$ & $\\dots$ &  \\\\\n",
       "\\end{tabular}\n"
      ],
      "text/plain": [
       "321×15 DataFrames.DataFrame. Omitted printing of 12 columns\n",
       "│ Row │ School Name                                   │ State  │ Longitude │\n",
       "│     │ \u001b[90mString\u001b[39m                                        │ \u001b[90mString\u001b[39m │ \u001b[90mFloat64\u001b[39m   │\n",
       "├─────┼───────────────────────────────────────────────┼────────┼───────────┤\n",
       "│ 1   │ Adelphi University                            │ NY     │ -73.6533  │\n",
       "│ 2   │ American University, Washington D.C.          │ DC     │ -77.0889  │\n",
       "│ 3   │ Amherst College                               │ MA     │ -72.5185  │\n",
       "│ 4   │ Appalachian State University                  │ NC     │ -81.6775  │\n",
       "│ 5   │ Arizona State University (ASU)                │ AZ     │ -111.928  │\n",
       "│ 6   │ Arkansas State University (ASU)               │ AR     │ -90.6796  │\n",
       "│ 7   │ Auburn University                             │ AL     │ -85.4924  │\n",
       "│ 8   │ Austin Peay State University                  │ TN     │ -87.3541  │\n",
       "│ 9   │ Ball State University (BSU)                   │ IN     │ -85.4088  │\n",
       "│ 10  │ Bates College                                 │ ME     │ -70.2033  │\n",
       "⋮\n",
       "│ 311 │ Wesleyan University (Middletown, Connecticut) │ CT     │ -72.6568  │\n",
       "│ 312 │ West Virginia University (WVU)                │ WV     │ -79.9539  │\n",
       "│ 313 │ Western Carolina University                   │ NC     │ -83.1846  │\n",
       "│ 314 │ Western Michigan University (WMU)             │ MI     │ -85.6135  │\n",
       "│ 315 │ Western Washington University                 │ WA     │ -122.485  │\n",
       "│ 316 │ Whitman College                               │ WA     │ -118.33   │\n",
       "│ 317 │ Widener University                            │ PA     │ -75.3552  │\n",
       "│ 318 │ Williams College                              │ MA     │ -73.2031  │\n",
       "│ 319 │ Wittenberg University                         │ OH     │ -83.8139  │\n",
       "│ 320 │ Worcester Polytechnic Institute (WPI)         │ MA     │ -71.8098  │\n",
       "│ 321 │ Yale University                               │ CT     │ -72.9225  │"
      ]
     },
     "execution_count": 2,
     "metadata": {},
     "output_type": "execute_result"
    }
   ],
   "source": [
    "using CSV\n",
    "df = CSV.read(\"master_data.csv\")"
   ]
  },
  {
   "cell_type": "code",
   "execution_count": 4,
   "metadata": {},
   "outputs": [
    {
     "data": {
      "text/plain": [
       "15-element Array{Symbol,1}:\n",
       " Symbol(\"School Name\")                      \n",
       " :State                                     \n",
       " :Longitude                                 \n",
       " :Latitude                                  \n",
       " Symbol(\"Starting Median Salary\")           \n",
       " Symbol(\"Mid-Career Median Salary\")         \n",
       " Symbol(\"Mid-Career 10th Percentile Salary\")\n",
       " Symbol(\"Mid-Career 25th Percentile Salary\")\n",
       " Symbol(\"Mid-Career 75th Percentile Salary\")\n",
       " Symbol(\"Mid-Career 90th Percentile Salary\")\n",
       " Symbol(\"1st\")                              \n",
       " Symbol(\"2nd\")                              \n",
       " Symbol(\"3rd\")                              \n",
       " Symbol(\"4th\")                              \n",
       " Symbol(\"5th\")                              "
      ]
     },
     "execution_count": 4,
     "metadata": {},
     "output_type": "execute_result"
    }
   ],
   "source": [
    "names(df)"
   ]
  },
  {
   "cell_type": "code",
   "execution_count": 40,
   "metadata": {},
   "outputs": [
    {
     "data": {
      "text/plain": [
       "#3 (generic function with 1 method)"
      ]
     },
     "execution_count": 40,
     "metadata": {},
     "output_type": "execute_result"
    }
   ],
   "source": [
    "stripChar = (s, r) -> replace(s, Regex(\"[$r]\") => \"\")"
   ]
  },
  {
   "cell_type": "code",
   "execution_count": 45,
   "metadata": {
    "scrolled": true
   },
   "outputs": [],
   "source": [
    "using DataFrames\n",
    "states = Dict()\n",
    "for i = 1:nrow(df)\n",
    "    if df[i, 2] in keys(states)\n",
    "        states[df[i,2]][1] += parse(Float64, stripChar(df[i, 6], \"\\$,\"))\n",
    "        states[df[i,2]][2] += 1\n",
    "    else\n",
    "        states[df[i,2]] = [parse(Float64, stripChar(df[i, 6], \"\\$,\")), 1]\n",
    "    end\n",
    "end"
   ]
  },
  {
   "cell_type": "code",
   "execution_count": 64,
   "metadata": {},
   "outputs": [
    {
     "data": {
      "text/plain": [
       "Dict{Any,Any} with 51 entries:\n",
       "  \"DC\" => 95125.0\n",
       "  \"NH\" => 106150.0\n",
       "  \"UT\" => 74820.0\n",
       "  \"WV\" => 78100.0\n",
       "  \"NY\" => 88450.0\n",
       "  \"MN\" => 83350.0\n",
       "  \"GA\" => 89400.0\n",
       "  \"LA\" => 86633.3\n",
       "  \"TX\" => 80461.5\n",
       "  \"MS\" => 73133.3\n",
       "  \"IL\" => 88330.0\n",
       "  \"IA\" => 81700.0\n",
       "  \"NM\" => 84833.3\n",
       "  \"OK\" => 79150.0\n",
       "  \"RI\" => 88800.0\n",
       "  \"NJ\" => 97433.3\n",
       "  \"KS\" => 72933.3\n",
       "  \"ID\" => 74966.7\n",
       "  \"OH\" => 77354.5\n",
       "  \"HI\" => 76000.0\n",
       "  \"MA\" => 94626.3\n",
       "  \"VT\" => 88450.0\n",
       "  \"MT\" => 66666.7\n",
       "  \"MI\" => 74483.3\n",
       "  \"MO\" => 73916.7\n",
       "  ⋮    => ⋮"
      ]
     },
     "execution_count": 64,
     "metadata": {},
     "output_type": "execute_result"
    }
   ],
   "source": [
    "means = Dict()\n",
    "for key in keys(states)\n",
    "    means[key] = states[key][1] / states[key][2]\n",
    "end"
   ]
  },
  {
   "cell_type": "code",
   "execution_count": 86,
   "metadata": {},
   "outputs": [
    {
     "data": {
      "text/plain": [
       "2-element Array{Array{T,1} where T,1}:\n",
       " [\"DC\", \"NH\", \"UT\", \"WV\", \"NY\", \"MN\", \"GA\", \"LA\", \"TX\", \"MS\"  …  \"AL\", \"AK\", \"CO\", \"WI\", \"TN\", \"WA\", \"CT\", \"VA\", \"PA\", \"OR\"]                                                             \n",
       " [95125.0, 106150.0, 74820.0, 78100.0, 88450.0, 83350.0, 89400.0, 86633.3, 80461.5, 73133.3  …  79725.0, 72600.0, 84571.4, 72466.7, 70985.7, 77844.4, 91233.3, 86350.0, 91205.0, 77260.0]"
      ]
     },
     "execution_count": 86,
     "metadata": {},
     "output_type": "execute_result"
    }
   ],
   "source": [
    "abbr = [i[1] for i in collect(means)]\n",
    "mean_vals = [i[2] for i in collect(means)]\n",
    "data = [abbr, mean_vals]"
   ]
  },
  {
   "cell_type": "code",
   "execution_count": 103,
   "metadata": {},
   "outputs": [
    {
     "data": {
      "text/html": [
       "<table class=\"data-frame\"><thead><tr><th></th><th>State</th><th>Mean</th></tr><tr><th></th><th>String</th><th>Float64</th></tr></thead><tbody><p>51 rows × 2 columns</p><tr><th>1</th><td>DC</td><td>95125.0</td></tr><tr><th>2</th><td>NH</td><td>106150.0</td></tr><tr><th>3</th><td>UT</td><td>74820.0</td></tr><tr><th>4</th><td>WV</td><td>78100.0</td></tr><tr><th>5</th><td>NY</td><td>88450.0</td></tr><tr><th>6</th><td>MN</td><td>83350.0</td></tr><tr><th>7</th><td>GA</td><td>89400.0</td></tr><tr><th>8</th><td>LA</td><td>86633.3</td></tr><tr><th>9</th><td>TX</td><td>80461.5</td></tr><tr><th>10</th><td>MS</td><td>73133.3</td></tr><tr><th>11</th><td>IL</td><td>88330.0</td></tr><tr><th>12</th><td>IA</td><td>81700.0</td></tr><tr><th>13</th><td>NM</td><td>84833.3</td></tr><tr><th>14</th><td>OK</td><td>79150.0</td></tr><tr><th>15</th><td>RI</td><td>88800.0</td></tr><tr><th>16</th><td>NJ</td><td>97433.3</td></tr><tr><th>17</th><td>KS</td><td>72933.3</td></tr><tr><th>18</th><td>ID</td><td>74966.7</td></tr><tr><th>19</th><td>OH</td><td>77354.5</td></tr><tr><th>20</th><td>HI</td><td>76000.0</td></tr><tr><th>21</th><td>MA</td><td>94626.3</td></tr><tr><th>22</th><td>VT</td><td>88450.0</td></tr><tr><th>23</th><td>MT</td><td>66666.7</td></tr><tr><th>24</th><td>MI</td><td>74483.3</td></tr><tr><th>25</th><td>MO</td><td>73916.7</td></tr><tr><th>26</th><td>FL</td><td>70600.0</td></tr><tr><th>27</th><td>NV</td><td>77250.0</td></tr><tr><th>28</th><td>CA</td><td>93132.1</td></tr><tr><th>29</th><td>SC</td><td>78850.0</td></tr><tr><th>30</th><td>ME</td><td>85000.0</td></tr><tr><th>&vellip;</th><td>&vellip;</td><td>&vellip;</td></tr></tbody></table>"
      ],
      "text/latex": [
       "\\begin{tabular}{r|cc}\n",
       "\t& State & Mean\\\\\n",
       "\t\\hline\n",
       "\t& String & Float64\\\\\n",
       "\t\\hline\n",
       "\t1 & DC & 95125.0 \\\\\n",
       "\t2 & NH & 106150.0 \\\\\n",
       "\t3 & UT & 74820.0 \\\\\n",
       "\t4 & WV & 78100.0 \\\\\n",
       "\t5 & NY & 88450.0 \\\\\n",
       "\t6 & MN & 83350.0 \\\\\n",
       "\t7 & GA & 89400.0 \\\\\n",
       "\t8 & LA & 86633.3 \\\\\n",
       "\t9 & TX & 80461.5 \\\\\n",
       "\t10 & MS & 73133.3 \\\\\n",
       "\t11 & IL & 88330.0 \\\\\n",
       "\t12 & IA & 81700.0 \\\\\n",
       "\t13 & NM & 84833.3 \\\\\n",
       "\t14 & OK & 79150.0 \\\\\n",
       "\t15 & RI & 88800.0 \\\\\n",
       "\t16 & NJ & 97433.3 \\\\\n",
       "\t17 & KS & 72933.3 \\\\\n",
       "\t18 & ID & 74966.7 \\\\\n",
       "\t19 & OH & 77354.5 \\\\\n",
       "\t20 & HI & 76000.0 \\\\\n",
       "\t21 & MA & 94626.3 \\\\\n",
       "\t22 & VT & 88450.0 \\\\\n",
       "\t23 & MT & 66666.7 \\\\\n",
       "\t24 & MI & 74483.3 \\\\\n",
       "\t25 & MO & 73916.7 \\\\\n",
       "\t26 & FL & 70600.0 \\\\\n",
       "\t27 & NV & 77250.0 \\\\\n",
       "\t28 & CA & 93132.1 \\\\\n",
       "\t29 & SC & 78850.0 \\\\\n",
       "\t30 & ME & 85000.0 \\\\\n",
       "\t$\\dots$ & $\\dots$ & $\\dots$ \\\\\n",
       "\\end{tabular}\n"
      ],
      "text/plain": [
       "51×2 DataFrame\n",
       "│ Row │ State  │ Mean     │\n",
       "│     │ \u001b[90mString\u001b[39m │ \u001b[90mFloat64\u001b[39m  │\n",
       "├─────┼────────┼──────────┤\n",
       "│ 1   │ DC     │ 95125.0  │\n",
       "│ 2   │ NH     │ 106150.0 │\n",
       "│ 3   │ UT     │ 74820.0  │\n",
       "│ 4   │ WV     │ 78100.0  │\n",
       "│ 5   │ NY     │ 88450.0  │\n",
       "│ 6   │ MN     │ 83350.0  │\n",
       "│ 7   │ GA     │ 89400.0  │\n",
       "│ 8   │ LA     │ 86633.3  │\n",
       "│ 9   │ TX     │ 80461.5  │\n",
       "│ 10  │ MS     │ 73133.3  │\n",
       "⋮\n",
       "│ 41  │ MD     │ 86400.0  │\n",
       "│ 42  │ AL     │ 79725.0  │\n",
       "│ 43  │ AK     │ 72600.0  │\n",
       "│ 44  │ CO     │ 84571.4  │\n",
       "│ 45  │ WI     │ 72466.7  │\n",
       "│ 46  │ TN     │ 70985.7  │\n",
       "│ 47  │ WA     │ 77844.4  │\n",
       "│ 48  │ CT     │ 91233.3  │\n",
       "│ 49  │ VA     │ 86350.0  │\n",
       "│ 50  │ PA     │ 91205.0  │\n",
       "│ 51  │ OR     │ 77260.0  │"
      ]
     },
     "execution_count": 103,
     "metadata": {},
     "output_type": "execute_result"
    }
   ],
   "source": [
    "means_df = DataFrame(data) \n",
    "rename!(means_df, :x1 => Symbol(\"State\"))\n",
    "rename!(means_df, :x2 => Symbol(\"Mean\"))\n",
    "means_df"
   ]
  },
  {
   "cell_type": "code",
   "execution_count": 104,
   "metadata": {},
   "outputs": [
    {
     "data": {
      "text/plain": [
       "\"state_means.csv\""
      ]
     },
     "execution_count": 104,
     "metadata": {},
     "output_type": "execute_result"
    }
   ],
   "source": [
    "CSV.write(\"state_means.csv\", means_df)"
   ]
  },
  {
   "cell_type": "code",
   "execution_count": null,
   "metadata": {},
   "outputs": [
    {
     "name": "stdout",
     "output_type": "stream",
     "text": [
      "\u001b[32m\u001b[1m  Updating\u001b[22m\u001b[39m registry at `C:\\Users\\ciard\\.juliapro\\JuliaPro_v1.0.5-2\\registries\\JuliaPro`\n"
     ]
    }
   ],
   "source": [
    "Pkg.add(\"JSON\")\n"
   ]
  }
 ],
 "metadata": {
  "kernelspec": {
   "display_name": "Julia 1.0.5",
   "language": "julia",
   "name": "julia-1.0"
  },
  "language_info": {
   "file_extension": ".jl",
   "mimetype": "application/julia",
   "name": "julia",
   "version": "1.0.5"
  }
 },
 "nbformat": 4,
 "nbformat_minor": 4
}
