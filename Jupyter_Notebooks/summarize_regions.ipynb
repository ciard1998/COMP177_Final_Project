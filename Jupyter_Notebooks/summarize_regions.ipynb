{
 "cells": [
  {
   "cell_type": "code",
   "execution_count": 1,
   "metadata": {
    "scrolled": true
   },
   "outputs": [
    {
     "name": "stderr",
     "output_type": "stream",
     "text": [
      "┌ Warning: readtable is deprecated, use CSV.read from the CSV package instead\n",
      "│   caller = ip:0x0\n",
      "└ @ Core :-1\n"
     ]
    },
    {
     "data": {
      "text/html": [
       "<table class=\"data-frame\"><thead><tr><th></th><th>School_Name</th><th>Region</th><th>Starting_Median_Salary</th></tr><tr><th></th><th>String⍰</th><th>String⍰</th><th>Float64⍰</th></tr></thead><tbody><p>320 rows × 8 columns (omitted printing of 5 columns)</p><tr><th>1</th><td>Stanford University</td><td>California</td><td>70400.0</td></tr><tr><th>2</th><td>California Institute of Technology (CIT)</td><td>California</td><td>75500.0</td></tr><tr><th>3</th><td>Harvey Mudd College</td><td>California</td><td>71800.0</td></tr><tr><th>4</th><td>University of California, Berkeley</td><td>California</td><td>59900.0</td></tr><tr><th>5</th><td>Occidental College</td><td>California</td><td>51900.0</td></tr><tr><th>6</th><td>Cal Poly San Luis Obispo</td><td>California</td><td>57200.0</td></tr><tr><th>7</th><td>University of California at Los Angeles (UCLA)</td><td>California</td><td>52600.0</td></tr><tr><th>8</th><td>University of California, San Diego (UCSD)</td><td>California</td><td>51100.0</td></tr><tr><th>9</th><td>Pomona College</td><td>California</td><td>48600.0</td></tr><tr><th>10</th><td>University of Southern California (USC)</td><td>California</td><td>54800.0</td></tr><tr><th>11</th><td>University of California, Davis</td><td>California</td><td>52300.0</td></tr><tr><th>12</th><td>University of California, Irvine (UCI)</td><td>California</td><td>48300.0</td></tr><tr><th>13</th><td>San Jose State University (SJSU)</td><td>California</td><td>53500.0</td></tr><tr><th>14</th><td>University of California, Santa Barbara (UCSB)</td><td>California</td><td>50500.0</td></tr><tr><th>15</th><td>California State University (CSU), Chico</td><td>California</td><td>47400.0</td></tr><tr><th>16</th><td>California State University, Fullerton (CSUF)</td><td>California</td><td>45700.0</td></tr><tr><th>17</th><td>San Francisco State University (SFSU)</td><td>California</td><td>47300.0</td></tr><tr><th>18</th><td>San Diego State University (SDSU)</td><td>California</td><td>46200.0</td></tr><tr><th>19</th><td>California State University, Long Beach (CSULB)</td><td>California</td><td>45100.0</td></tr><tr><th>20</th><td>California State University, East Bay (CSUEB)</td><td>California</td><td>49200.0</td></tr><tr><th>21</th><td>University of California, Santa Cruz (UCSC)</td><td>California</td><td>44700.0</td></tr><tr><th>22</th><td>California State University, Sacramento (CSUS)</td><td>California</td><td>47800.0</td></tr><tr><th>23</th><td>University of California, Riverside (UCR)</td><td>California</td><td>46800.0</td></tr><tr><th>24</th><td>California State University, Northridge (CSUN)</td><td>California</td><td>45500.0</td></tr><tr><th>25</th><td>California State University, Dominguez Hills (CSUDH)</td><td>California</td><td>42700.0</td></tr><tr><th>26</th><td>California State University (CSU), Stanislaus</td><td>California</td><td>38000.0</td></tr><tr><th>27</th><td>Humboldt State University</td><td>California</td><td>42600.0</td></tr><tr><th>28</th><td>Thomas Aquinas College</td><td>California</td><td>41500.0</td></tr><tr><th>29</th><td>Colorado School of Mines</td><td>Western</td><td>58100.0</td></tr><tr><th>30</th><td>University of Colorado - Boulder (UCB)</td><td>Western</td><td>47100.0</td></tr><tr><th>&vellip;</th><td>&vellip;</td><td>&vellip;</td><td>&vellip;</td></tr></tbody></table>"
      ],
      "text/latex": [
       "\\begin{tabular}{r|cccc}\n",
       "\t& School\\_Name & Region & Starting\\_Median\\_Salary & \\\\\n",
       "\t\\hline\n",
       "\t& String⍰ & String⍰ & Float64⍰ & \\\\\n",
       "\t\\hline\n",
       "\t1 & Stanford University & California & 70400.0 & $\\dots$ \\\\\n",
       "\t2 & California Institute of Technology (CIT) & California & 75500.0 & $\\dots$ \\\\\n",
       "\t3 & Harvey Mudd College & California & 71800.0 & $\\dots$ \\\\\n",
       "\t4 & University of California, Berkeley & California & 59900.0 & $\\dots$ \\\\\n",
       "\t5 & Occidental College & California & 51900.0 & $\\dots$ \\\\\n",
       "\t6 & Cal Poly San Luis Obispo & California & 57200.0 & $\\dots$ \\\\\n",
       "\t7 & University of California at Los Angeles (UCLA) & California & 52600.0 & $\\dots$ \\\\\n",
       "\t8 & University of California, San Diego (UCSD) & California & 51100.0 & $\\dots$ \\\\\n",
       "\t9 & Pomona College & California & 48600.0 & $\\dots$ \\\\\n",
       "\t10 & University of Southern California (USC) & California & 54800.0 & $\\dots$ \\\\\n",
       "\t11 & University of California, Davis & California & 52300.0 & $\\dots$ \\\\\n",
       "\t12 & University of California, Irvine (UCI) & California & 48300.0 & $\\dots$ \\\\\n",
       "\t13 & San Jose State University (SJSU) & California & 53500.0 & $\\dots$ \\\\\n",
       "\t14 & University of California, Santa Barbara (UCSB) & California & 50500.0 & $\\dots$ \\\\\n",
       "\t15 & California State University (CSU), Chico & California & 47400.0 & $\\dots$ \\\\\n",
       "\t16 & California State University, Fullerton (CSUF) & California & 45700.0 & $\\dots$ \\\\\n",
       "\t17 & San Francisco State University (SFSU) & California & 47300.0 & $\\dots$ \\\\\n",
       "\t18 & San Diego State University (SDSU) & California & 46200.0 & $\\dots$ \\\\\n",
       "\t19 & California State University, Long Beach (CSULB) & California & 45100.0 & $\\dots$ \\\\\n",
       "\t20 & California State University, East Bay (CSUEB) & California & 49200.0 & $\\dots$ \\\\\n",
       "\t21 & University of California, Santa Cruz (UCSC) & California & 44700.0 & $\\dots$ \\\\\n",
       "\t22 & California State University, Sacramento (CSUS) & California & 47800.0 & $\\dots$ \\\\\n",
       "\t23 & University of California, Riverside (UCR) & California & 46800.0 & $\\dots$ \\\\\n",
       "\t24 & California State University, Northridge (CSUN) & California & 45500.0 & $\\dots$ \\\\\n",
       "\t25 & California State University, Dominguez Hills (CSUDH) & California & 42700.0 & $\\dots$ \\\\\n",
       "\t26 & California State University (CSU), Stanislaus & California & 38000.0 & $\\dots$ \\\\\n",
       "\t27 & Humboldt State University & California & 42600.0 & $\\dots$ \\\\\n",
       "\t28 & Thomas Aquinas College & California & 41500.0 & $\\dots$ \\\\\n",
       "\t29 & Colorado School of Mines & Western & 58100.0 & $\\dots$ \\\\\n",
       "\t30 & University of Colorado - Boulder (UCB) & Western & 47100.0 & $\\dots$ \\\\\n",
       "\t$\\dots$ & $\\dots$ & $\\dots$ & $\\dots$ &  \\\\\n",
       "\\end{tabular}\n"
      ],
      "text/plain": [
       "320×8 DataFrame. Omitted printing of 6 columns\n",
       "│ Row │ School_Name                                     │ Region       │\n",
       "│     │ \u001b[90mUnion{Missing, String}\u001b[39m                          │ \u001b[90mString⍰\u001b[39m      │\n",
       "├─────┼─────────────────────────────────────────────────┼──────────────┤\n",
       "│ 1   │ Stanford University                             │ California   │\n",
       "│ 2   │ California Institute of Technology (CIT)        │ California   │\n",
       "│ 3   │ Harvey Mudd College                             │ California   │\n",
       "│ 4   │ University of California, Berkeley              │ California   │\n",
       "│ 5   │ Occidental College                              │ California   │\n",
       "│ 6   │ Cal Poly San Luis Obispo                        │ California   │\n",
       "│ 7   │ University of California at Los Angeles (UCLA)  │ California   │\n",
       "│ 8   │ University of California, San Diego (UCSD)      │ California   │\n",
       "│ 9   │ Pomona College                                  │ California   │\n",
       "│ 10  │ University of Southern California (USC)         │ California   │\n",
       "⋮\n",
       "│ 310 │ Moravian College                                │ Northeastern │\n",
       "│ 311 │ Penn State - Harrisburg                         │ Northeastern │\n",
       "│ 312 │ Suffolk University                              │ Northeastern │\n",
       "│ 313 │ Fitchburg State College                         │ Northeastern │\n",
       "│ 314 │ Roger Williams University                       │ Northeastern │\n",
       "│ 315 │ University Of Maine                             │ Northeastern │\n",
       "│ 316 │ State University of New York (SUNY) at Potsdam  │ Northeastern │\n",
       "│ 317 │ Niagara University                              │ Northeastern │\n",
       "│ 318 │ State University of New York (SUNY) at Fredonia │ Northeastern │\n",
       "│ 319 │ University of Southern Maine                    │ Northeastern │\n",
       "│ 320 │ Mercy College                                   │ Northeastern │"
      ]
     },
     "execution_count": 1,
     "metadata": {},
     "output_type": "execute_result"
    }
   ],
   "source": [
    "using CSV\n",
    "using DataFrames\n",
    "using Statistics\n",
    "\n",
    "df = readtable(\"Data/salaries-by-region.csv\", nastrings=[\"N/A\"],eltypes=[String, String, Float64, Float64, Float64, Float64, Float64, Float64])"
   ]
  },
  {
   "cell_type": "code",
   "execution_count": 2,
   "metadata": {},
   "outputs": [],
   "source": [
    "groups = groupby(df, :Region)\n",
    "regions = Dict()\n",
    "for i = 1:length(groups)\n",
    "    regions[groups[i][1,2]] = [mean(skipmissing(groups[i][:, 3])), \n",
    "                            mean(skipmissing(groups[i][:, 4])), \n",
    "                            mean(skipmissing(groups[i][:, 5])), \n",
    "                            mean(skipmissing(groups[i][:, 6])), \n",
    "                            mean(skipmissing(groups[i][:, 7])), \n",
    "                            mean(skipmissing(groups[i][:, 8]))]\n",
    "end"
   ]
  },
  {
   "cell_type": "code",
   "execution_count": 3,
   "metadata": {},
   "outputs": [
    {
     "data": {
      "text/plain": [
       "7-element Array{Array{T,1} where T,1}:\n",
       " [\"Southern\", \"Northeastern\", \"Midwestern\", \"California\", \"Western\"]\n",
       " [44521.5, 48496.0, 44225.4, 51032.1, 44414.3]                      \n",
       " [79505.1, 91352.0, 78180.3, 93132.1, 78200.0]                      \n",
       " [43074.6, 49101.2, 43076.6, 47777.3, 42985.3]                      \n",
       " [57506.3, 65479.0, 57026.8, 67153.6, 56581.0]                      \n",
       " [109662.0, 129576.0, 1.07594e5, 127350.0, 1.06026e5]               \n",
       " [152769.0, 1.81927e5, 1.47689e5, 1.67909e5, 1.43824e5]             "
      ]
     },
     "execution_count": 3,
     "metadata": {},
     "output_type": "execute_result"
    }
   ],
   "source": [
    "region = [i[1] for i in collect(regions)]\n",
    "mean_vals = [i[2] for i in collect(regions)]\n",
    "sms = [i[1] for i in mean_vals]\n",
    "mc_50 = [i[2] for i in mean_vals]\n",
    "mc_10 = [i[3] for i in mean_vals]\n",
    "mc_25 = [i[4] for i in mean_vals]\n",
    "mc_75 = [i[5] for i in mean_vals]\n",
    "mc_90 = [i[6] for i in mean_vals]\n",
    "data = [region, sms, mc_50, mc_10, mc_25, mc_75, mc_90]"
   ]
  },
  {
   "cell_type": "code",
   "execution_count": 4,
   "metadata": {
    "scrolled": true
   },
   "outputs": [
    {
     "data": {
      "text/html": [
       "<table class=\"data-frame\"><thead><tr><th></th><th>region</th><th>sms</th><th>mc_50</th><th>mc_10</th><th>mc_25</th><th>mc_75</th><th>mc_90</th></tr><tr><th></th><th>String</th><th>Float64</th><th>Float64</th><th>Float64</th><th>Float64</th><th>Float64</th><th>Float64</th></tr></thead><tbody><p>5 rows × 7 columns</p><tr><th>1</th><td>Southern</td><td>44521.5</td><td>79505.1</td><td>43074.6</td><td>57506.3</td><td>109662.0</td><td>152769.0</td></tr><tr><th>2</th><td>Northeastern</td><td>48496.0</td><td>91352.0</td><td>49101.2</td><td>65479.0</td><td>129576.0</td><td>1.81927e5</td></tr><tr><th>3</th><td>Midwestern</td><td>44225.4</td><td>78180.3</td><td>43076.6</td><td>57026.8</td><td>1.07594e5</td><td>1.47689e5</td></tr><tr><th>4</th><td>California</td><td>51032.1</td><td>93132.1</td><td>47777.3</td><td>67153.6</td><td>127350.0</td><td>1.67909e5</td></tr><tr><th>5</th><td>Western</td><td>44414.3</td><td>78200.0</td><td>42985.3</td><td>56581.0</td><td>1.06026e5</td><td>1.43824e5</td></tr></tbody></table>"
      ],
      "text/latex": [
       "\\begin{tabular}{r|ccccccc}\n",
       "\t& region & sms & mc\\_50 & mc\\_10 & mc\\_25 & mc\\_75 & mc\\_90\\\\\n",
       "\t\\hline\n",
       "\t& String & Float64 & Float64 & Float64 & Float64 & Float64 & Float64\\\\\n",
       "\t\\hline\n",
       "\t1 & Southern & 44521.5 & 79505.1 & 43074.6 & 57506.3 & 109662.0 & 152769.0 \\\\\n",
       "\t2 & Northeastern & 48496.0 & 91352.0 & 49101.2 & 65479.0 & 129576.0 & 1.81927e5 \\\\\n",
       "\t3 & Midwestern & 44225.4 & 78180.3 & 43076.6 & 57026.8 & 1.07594e5 & 1.47689e5 \\\\\n",
       "\t4 & California & 51032.1 & 93132.1 & 47777.3 & 67153.6 & 127350.0 & 1.67909e5 \\\\\n",
       "\t5 & Western & 44414.3 & 78200.0 & 42985.3 & 56581.0 & 1.06026e5 & 1.43824e5 \\\\\n",
       "\\end{tabular}\n"
      ],
      "text/plain": [
       "5×7 DataFrame. Omitted printing of 1 columns\n",
       "│ Row │ region       │ sms     │ mc_50   │ mc_10   │ mc_25   │ mc_75     │\n",
       "│     │ \u001b[90mString\u001b[39m       │ \u001b[90mFloat64\u001b[39m │ \u001b[90mFloat64\u001b[39m │ \u001b[90mFloat64\u001b[39m │ \u001b[90mFloat64\u001b[39m │ \u001b[90mFloat64\u001b[39m   │\n",
       "├─────┼──────────────┼─────────┼─────────┼─────────┼─────────┼───────────┤\n",
       "│ 1   │ Southern     │ 44521.5 │ 79505.1 │ 43074.6 │ 57506.3 │ 109662.0  │\n",
       "│ 2   │ Northeastern │ 48496.0 │ 91352.0 │ 49101.2 │ 65479.0 │ 129576.0  │\n",
       "│ 3   │ Midwestern   │ 44225.4 │ 78180.3 │ 43076.6 │ 57026.8 │ 1.07594e5 │\n",
       "│ 4   │ California   │ 51032.1 │ 93132.1 │ 47777.3 │ 67153.6 │ 127350.0  │\n",
       "│ 5   │ Western      │ 44414.3 │ 78200.0 │ 42985.3 │ 56581.0 │ 1.06026e5 │"
      ]
     },
     "execution_count": 4,
     "metadata": {},
     "output_type": "execute_result"
    }
   ],
   "source": [
    "means_df = DataFrame(data)\n",
    "rename!(means_df, :x1 => Symbol(\"region\"))\n",
    "rename!(means_df, :x2 => Symbol(\"sms\"))\n",
    "rename!(means_df, :x3 => Symbol(\"mc_50\"))\n",
    "rename!(means_df, :x4 => Symbol(\"mc_10\"))\n",
    "rename!(means_df, :x5 => Symbol(\"mc_25\"))\n",
    "rename!(means_df, :x6 => Symbol(\"mc_75\"))\n",
    "rename!(means_df, :x7 => Symbol(\"mc_90\"))"
   ]
  },
  {
   "cell_type": "code",
   "execution_count": 5,
   "metadata": {},
   "outputs": [
    {
     "data": {
      "text/plain": [
       "\"Data/region_means.csv\""
      ]
     },
     "execution_count": 5,
     "metadata": {},
     "output_type": "execute_result"
    }
   ],
   "source": [
    "CSV.write(\"Data/region_means.csv\", means_df)"
   ]
  }
 ],
 "metadata": {
  "kernelspec": {
   "display_name": "Julia 1.0.5",
   "language": "julia",
   "name": "julia-1.0"
  },
  "language_info": {
   "file_extension": ".jl",
   "mimetype": "application/julia",
   "name": "julia",
   "version": "1.0.5"
  }
 },
 "nbformat": 4,
 "nbformat_minor": 4
}
