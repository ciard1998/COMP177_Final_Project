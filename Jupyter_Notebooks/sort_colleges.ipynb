{
 "cells": [
  {
   "cell_type": "code",
   "execution_count": 1,
   "metadata": {},
   "outputs": [
    {
     "data": {
      "text/html": [
       "<table class=\"data-frame\"><thead><tr><th></th><th>School Name</th><th>1st</th><th>2nd</th></tr><tr><th></th><th>String</th><th>String</th><th>String</th></tr></thead><tbody><p>320 rows × 6 columns (omitted printing of 3 columns)</p><tr><th>1</th><td>Stanford University</td><td>Computer Science</td><td>Biology</td></tr><tr><th>2</th><td>California Institute of Technology (CIT)</td><td>Computer Science</td><td>Physics </td></tr><tr><th>3</th><td>Harvey Mudd College</td><td>Mechanical Engineering</td><td>Computer Science </td></tr><tr><th>4</th><td>University of California, Berkeley</td><td>Economics</td><td>Computer Science </td></tr><tr><th>5</th><td>Occidental College</td><td>Economics</td><td>International Relations</td></tr><tr><th>6</th><td>Cal Poly San Luis Obispo</td><td>Business Management</td><td>Mechanical Engineering</td></tr><tr><th>7</th><td>University of California at Los Angeles (UCLA)</td><td>Economics</td><td>Political Science</td></tr><tr><th>8</th><td>University of California, San Diego (UCSD)</td><td>Computer Science</td><td>Economics</td></tr><tr><th>9</th><td>Pomona College</td><td>Economics</td><td>Math</td></tr><tr><th>10</th><td>University of Southern California (USC)</td><td>Business Management</td><td>Communications</td></tr><tr><th>11</th><td>University of California, Davis</td><td>Psychology</td><td>Economics</td></tr><tr><th>12</th><td>University of California, Irvine (UCI)</td><td>Psychology</td><td>Biology</td></tr><tr><th>13</th><td>San Jose State University (SJSU)</td><td>Business Management</td><td>Psychology</td></tr><tr><th>14</th><td>University of California, Santa Barbara (UCSB)</td><td>Sociology</td><td>Economics</td></tr><tr><th>15</th><td>California State University (CSU), Chico</td><td>Business Management</td><td>Communications</td></tr><tr><th>16</th><td>California State University, Fullerton (CSUF)</td><td>Business Management</td><td>Communications</td></tr><tr><th>17</th><td>San Francisco State University (SFSU)</td><td>Business Management</td><td>Biology</td></tr><tr><th>18</th><td>San Diego State University (SDSU)</td><td>Business Management</td><td>Psychology</td></tr><tr><th>19</th><td>California State University, Long Beach (CSULB)</td><td>Business Management</td><td>Psychology</td></tr><tr><th>20</th><td>California State University, East Bay (CSUEB)</td><td>Business Management</td><td>Health Care Administration</td></tr><tr><th>21</th><td>University of California, Santa Cruz (UCSC)</td><td>Computer Science</td><td>Psychology</td></tr><tr><th>22</th><td>California State University, Sacramento (CSUS)</td><td>Business Management</td><td>Communications</td></tr><tr><th>23</th><td>University of California, Riverside (UCR)</td><td>Business Management</td><td>Biology</td></tr><tr><th>24</th><td>California State University, Northridge (CSUN)</td><td>Psychology</td><td>Business Management</td></tr><tr><th>25</th><td>California State University, Dominguez Hills (CSUDH)</td><td>Business Management</td><td>Psychology</td></tr><tr><th>26</th><td>California State University (CSU), Stanislaus</td><td>Business Management</td><td>Psychology</td></tr><tr><th>27</th><td>Humboldt State University</td><td>Biology</td><td>Business Management</td></tr><tr><th>28</th><td>Thomas Aquinas College</td><td>Criminal Justice</td><td>Psychology</td></tr><tr><th>29</th><td>Colorado School of Mines</td><td>Mechanical Engineering</td><td>Computer Science </td></tr><tr><th>30</th><td>University of Colorado - Boulder (UCB)</td><td>Economics</td><td>Computer Science </td></tr><tr><th>&vellip;</th><td>&vellip;</td><td>&vellip;</td><td>&vellip;</td></tr></tbody></table>"
      ],
      "text/latex": [
       "\\begin{tabular}{r|cccc}\n",
       "\t& School Name & 1st & 2nd & \\\\\n",
       "\t\\hline\n",
       "\t& String & String & String & \\\\\n",
       "\t\\hline\n",
       "\t1 & Stanford University & Computer Science & Biology & $\\dots$ \\\\\n",
       "\t2 & California Institute of Technology (CIT) & Computer Science & Physics  & $\\dots$ \\\\\n",
       "\t3 & Harvey Mudd College & Mechanical Engineering & Computer Science  & $\\dots$ \\\\\n",
       "\t4 & University of California, Berkeley & Economics & Computer Science  & $\\dots$ \\\\\n",
       "\t5 & Occidental College & Economics & International Relations & $\\dots$ \\\\\n",
       "\t6 & Cal Poly San Luis Obispo & Business Management & Mechanical Engineering & $\\dots$ \\\\\n",
       "\t7 & University of California at Los Angeles (UCLA) & Economics & Political Science & $\\dots$ \\\\\n",
       "\t8 & University of California, San Diego (UCSD) & Computer Science & Economics & $\\dots$ \\\\\n",
       "\t9 & Pomona College & Economics & Math & $\\dots$ \\\\\n",
       "\t10 & University of Southern California (USC) & Business Management & Communications & $\\dots$ \\\\\n",
       "\t11 & University of California, Davis & Psychology & Economics & $\\dots$ \\\\\n",
       "\t12 & University of California, Irvine (UCI) & Psychology & Biology & $\\dots$ \\\\\n",
       "\t13 & San Jose State University (SJSU) & Business Management & Psychology & $\\dots$ \\\\\n",
       "\t14 & University of California, Santa Barbara (UCSB) & Sociology & Economics & $\\dots$ \\\\\n",
       "\t15 & California State University (CSU), Chico & Business Management & Communications & $\\dots$ \\\\\n",
       "\t16 & California State University, Fullerton (CSUF) & Business Management & Communications & $\\dots$ \\\\\n",
       "\t17 & San Francisco State University (SFSU) & Business Management & Biology & $\\dots$ \\\\\n",
       "\t18 & San Diego State University (SDSU) & Business Management & Psychology & $\\dots$ \\\\\n",
       "\t19 & California State University, Long Beach (CSULB) & Business Management & Psychology & $\\dots$ \\\\\n",
       "\t20 & California State University, East Bay (CSUEB) & Business Management & Health Care Administration & $\\dots$ \\\\\n",
       "\t21 & University of California, Santa Cruz (UCSC) & Computer Science & Psychology & $\\dots$ \\\\\n",
       "\t22 & California State University, Sacramento (CSUS) & Business Management & Communications & $\\dots$ \\\\\n",
       "\t23 & University of California, Riverside (UCR) & Business Management & Biology & $\\dots$ \\\\\n",
       "\t24 & California State University, Northridge (CSUN) & Psychology & Business Management & $\\dots$ \\\\\n",
       "\t25 & California State University, Dominguez Hills (CSUDH) & Business Management & Psychology & $\\dots$ \\\\\n",
       "\t26 & California State University (CSU), Stanislaus & Business Management & Psychology & $\\dots$ \\\\\n",
       "\t27 & Humboldt State University & Biology & Business Management & $\\dots$ \\\\\n",
       "\t28 & Thomas Aquinas College & Criminal Justice & Psychology & $\\dots$ \\\\\n",
       "\t29 & Colorado School of Mines & Mechanical Engineering & Computer Science  & $\\dots$ \\\\\n",
       "\t30 & University of Colorado - Boulder (UCB) & Economics & Computer Science  & $\\dots$ \\\\\n",
       "\t$\\dots$ & $\\dots$ & $\\dots$ & $\\dots$ &  \\\\\n",
       "\\end{tabular}\n"
      ],
      "text/plain": [
       "320×6 DataFrames.DataFrame. Omitted printing of 5 columns\n",
       "│ Row │ School Name                                     │\n",
       "│     │ \u001b[90mString\u001b[39m                                          │\n",
       "├─────┼─────────────────────────────────────────────────┤\n",
       "│ 1   │ Stanford University                             │\n",
       "│ 2   │ California Institute of Technology (CIT)        │\n",
       "│ 3   │ Harvey Mudd College                             │\n",
       "│ 4   │ University of California, Berkeley              │\n",
       "│ 5   │ Occidental College                              │\n",
       "│ 6   │ Cal Poly San Luis Obispo                        │\n",
       "│ 7   │ University of California at Los Angeles (UCLA)  │\n",
       "│ 8   │ University of California, San Diego (UCSD)      │\n",
       "│ 9   │ Pomona College                                  │\n",
       "│ 10  │ University of Southern California (USC)         │\n",
       "⋮\n",
       "│ 310 │ Moravian College                                │\n",
       "│ 311 │ Penn State - Harrisburg                         │\n",
       "│ 312 │ Suffolk University                              │\n",
       "│ 313 │ Fitchburg State College                         │\n",
       "│ 314 │ Roger Williams University                       │\n",
       "│ 315 │ University Of Maine                             │\n",
       "│ 316 │ State University of New York (SUNY) at Potsdam  │\n",
       "│ 317 │ Niagara University                              │\n",
       "│ 318 │ State University of New York (SUNY) at Fredonia │\n",
       "│ 319 │ University of Southern Maine                    │\n",
       "│ 320 │ Mercy College                                   │"
      ]
     },
     "execution_count": 1,
     "metadata": {},
     "output_type": "execute_result"
    }
   ],
   "source": [
    "using CSV\n",
    "df = CSV.read(\"Data/college_top5.csv\")"
   ]
  },
  {
   "cell_type": "code",
   "execution_count": 2,
   "metadata": {},
   "outputs": [
    {
     "data": {
      "text/html": [
       "<table class=\"data-frame\"><thead><tr><th></th><th>School Name</th><th>1st</th><th>2nd</th></tr><tr><th></th><th>String</th><th>String</th><th>String</th></tr></thead><tbody><p>320 rows × 6 columns (omitted printing of 3 columns)</p><tr><th>1</th><td>Adelphi University</td><td>Nursing</td><td>Biology</td></tr><tr><th>2</th><td>American University, Washington D.C.</td><td>International Relations</td><td>Business Management</td></tr><tr><th>3</th><td>Amherst College</td><td>Math</td><td>Economics</td></tr><tr><th>4</th><td>Appalachian State University</td><td>Psychology</td><td>Nutrition</td></tr><tr><th>5</th><td>Arizona State University (ASU)</td><td>Business Management</td><td>Psychology</td></tr><tr><th>6</th><td>Arkansas State University (ASU)</td><td>Nursing</td><td>Business Management</td></tr><tr><th>7</th><td>Auburn University</td><td>Biology</td><td>Mechanical Engineering</td></tr><tr><th>8</th><td>Austin Peay State University</td><td>Education</td><td>Nursing</td></tr><tr><th>9</th><td>Ball State University (BSU)</td><td>Communications</td><td>Psychology</td></tr><tr><th>10</th><td>Bates College</td><td>Economics</td><td>Political Science</td></tr><tr><th>11</th><td>Baylor University</td><td>Biology</td><td>Nursing</td></tr><tr><th>12</th><td>Binghamton University</td><td>Economics</td><td>Psychology</td></tr><tr><th>13</th><td>Black Hills State University</td><td>Business Management</td><td>Education</td></tr><tr><th>14</th><td>Boise State University (BSU)</td><td>Business Management</td><td>Nursing</td></tr><tr><th>15</th><td>Boston College</td><td>Economics</td><td>Finance</td></tr><tr><th>16</th><td>Boston University</td><td>Business Management</td><td>Communications</td></tr><tr><th>17</th><td>Bowdoin College</td><td>Political Science</td><td>Economics</td></tr><tr><th>18</th><td>Bowling Green State University</td><td>Education</td><td>Biology</td></tr><tr><th>19</th><td>Bradley University</td><td>Nursing</td><td>Mechanical Engineering</td></tr><tr><th>20</th><td>Brigham Young University (BYU)</td><td>Psychology</td><td>Nutrition</td></tr><tr><th>21</th><td>Brown University</td><td>Computer Science</td><td>Economics</td></tr><tr><th>22</th><td>Bucknell University</td><td>Economics</td><td>Political Science</td></tr><tr><th>23</th><td>Cal Poly San Luis Obispo</td><td>Business Management</td><td>Mechanical Engineering</td></tr><tr><th>24</th><td>California Institute of Technology (CIT)</td><td>Computer Science</td><td>Physics </td></tr><tr><th>25</th><td>California State University (CSU), Chico</td><td>Business Management</td><td>Communications</td></tr><tr><th>26</th><td>California State University (CSU), Stanislaus</td><td>Business Management</td><td>Psychology</td></tr><tr><th>27</th><td>California State University, Dominguez Hills (CSUDH)</td><td>Business Management</td><td>Psychology</td></tr><tr><th>28</th><td>California State University, East Bay (CSUEB)</td><td>Business Management</td><td>Health Care Administration</td></tr><tr><th>29</th><td>California State University, Fullerton (CSUF)</td><td>Business Management</td><td>Communications</td></tr><tr><th>30</th><td>California State University, Long Beach (CSULB)</td><td>Business Management</td><td>Psychology</td></tr><tr><th>&vellip;</th><td>&vellip;</td><td>&vellip;</td><td>&vellip;</td></tr></tbody></table>"
      ],
      "text/latex": [
       "\\begin{tabular}{r|cccc}\n",
       "\t& School Name & 1st & 2nd & \\\\\n",
       "\t\\hline\n",
       "\t& String & String & String & \\\\\n",
       "\t\\hline\n",
       "\t1 & Adelphi University & Nursing & Biology & $\\dots$ \\\\\n",
       "\t2 & American University, Washington D.C. & International Relations & Business Management & $\\dots$ \\\\\n",
       "\t3 & Amherst College & Math & Economics & $\\dots$ \\\\\n",
       "\t4 & Appalachian State University & Psychology & Nutrition & $\\dots$ \\\\\n",
       "\t5 & Arizona State University (ASU) & Business Management & Psychology & $\\dots$ \\\\\n",
       "\t6 & Arkansas State University (ASU) & Nursing & Business Management & $\\dots$ \\\\\n",
       "\t7 & Auburn University & Biology & Mechanical Engineering & $\\dots$ \\\\\n",
       "\t8 & Austin Peay State University & Education & Nursing & $\\dots$ \\\\\n",
       "\t9 & Ball State University (BSU) & Communications & Psychology & $\\dots$ \\\\\n",
       "\t10 & Bates College & Economics & Political Science & $\\dots$ \\\\\n",
       "\t11 & Baylor University & Biology & Nursing & $\\dots$ \\\\\n",
       "\t12 & Binghamton University & Economics & Psychology & $\\dots$ \\\\\n",
       "\t13 & Black Hills State University & Business Management & Education & $\\dots$ \\\\\n",
       "\t14 & Boise State University (BSU) & Business Management & Nursing & $\\dots$ \\\\\n",
       "\t15 & Boston College & Economics & Finance & $\\dots$ \\\\\n",
       "\t16 & Boston University & Business Management & Communications & $\\dots$ \\\\\n",
       "\t17 & Bowdoin College & Political Science & Economics & $\\dots$ \\\\\n",
       "\t18 & Bowling Green State University & Education & Biology & $\\dots$ \\\\\n",
       "\t19 & Bradley University & Nursing & Mechanical Engineering & $\\dots$ \\\\\n",
       "\t20 & Brigham Young University (BYU) & Psychology & Nutrition & $\\dots$ \\\\\n",
       "\t21 & Brown University & Computer Science & Economics & $\\dots$ \\\\\n",
       "\t22 & Bucknell University & Economics & Political Science & $\\dots$ \\\\\n",
       "\t23 & Cal Poly San Luis Obispo & Business Management & Mechanical Engineering & $\\dots$ \\\\\n",
       "\t24 & California Institute of Technology (CIT) & Computer Science & Physics  & $\\dots$ \\\\\n",
       "\t25 & California State University (CSU), Chico & Business Management & Communications & $\\dots$ \\\\\n",
       "\t26 & California State University (CSU), Stanislaus & Business Management & Psychology & $\\dots$ \\\\\n",
       "\t27 & California State University, Dominguez Hills (CSUDH) & Business Management & Psychology & $\\dots$ \\\\\n",
       "\t28 & California State University, East Bay (CSUEB) & Business Management & Health Care Administration & $\\dots$ \\\\\n",
       "\t29 & California State University, Fullerton (CSUF) & Business Management & Communications & $\\dots$ \\\\\n",
       "\t30 & California State University, Long Beach (CSULB) & Business Management & Psychology & $\\dots$ \\\\\n",
       "\t$\\dots$ & $\\dots$ & $\\dots$ & $\\dots$ &  \\\\\n",
       "\\end{tabular}\n"
      ],
      "text/plain": [
       "320×6 DataFrames.DataFrame. Omitted printing of 5 columns\n",
       "│ Row │ School Name                                   │\n",
       "│     │ \u001b[90mString\u001b[39m                                        │\n",
       "├─────┼───────────────────────────────────────────────┤\n",
       "│ 1   │ Adelphi University                            │\n",
       "│ 2   │ American University, Washington D.C.          │\n",
       "│ 3   │ Amherst College                               │\n",
       "│ 4   │ Appalachian State University                  │\n",
       "│ 5   │ Arizona State University (ASU)                │\n",
       "│ 6   │ Arkansas State University (ASU)               │\n",
       "│ 7   │ Auburn University                             │\n",
       "│ 8   │ Austin Peay State University                  │\n",
       "│ 9   │ Ball State University (BSU)                   │\n",
       "│ 10  │ Bates College                                 │\n",
       "⋮\n",
       "│ 310 │ Wesleyan University (Middletown, Connecticut) │\n",
       "│ 311 │ West Virginia University (WVU)                │\n",
       "│ 312 │ Western Carolina University                   │\n",
       "│ 313 │ Western Michigan University (WMU)             │\n",
       "│ 314 │ Western Washington University                 │\n",
       "│ 315 │ Whitman College                               │\n",
       "│ 316 │ Widener University                            │\n",
       "│ 317 │ Williams College                              │\n",
       "│ 318 │ Wittenberg University                         │\n",
       "│ 319 │ Worcester Polytechnic Institute (WPI)         │\n",
       "│ 320 │ Yale University                               │"
      ]
     },
     "execution_count": 2,
     "metadata": {},
     "output_type": "execute_result"
    }
   ],
   "source": [
    "df = sort(df)"
   ]
  },
  {
   "cell_type": "code",
   "execution_count": 3,
   "metadata": {},
   "outputs": [
    {
     "data": {
      "text/plain": [
       "\"Data/sorted_college_top5.csv\""
      ]
     },
     "execution_count": 3,
     "metadata": {},
     "output_type": "execute_result"
    }
   ],
   "source": [
    "CSV.write(\"Data/sorted_college_top5.csv\", df)"
   ]
  }
 ],
 "metadata": {
  "kernelspec": {
   "display_name": "Julia 1.0.5",
   "language": "julia",
   "name": "julia-1.0"
  },
  "language_info": {
   "file_extension": ".jl",
   "mimetype": "application/julia",
   "name": "julia",
   "version": "1.0.5"
  }
 },
 "nbformat": 4,
 "nbformat_minor": 4
}
