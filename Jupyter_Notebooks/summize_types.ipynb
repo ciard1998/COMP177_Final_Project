{
 "cells": [
  {
   "cell_type": "code",
   "execution_count": 2,
   "metadata": {},
   "outputs": [
    {
     "data": {
      "text/html": [
       "<table class=\"data-frame\"><thead><tr><th></th><th>School_Name</th><th>School_Type</th></tr><tr><th></th><th>String⍰</th><th>String⍰</th></tr></thead><tbody><p>269 rows × 8 columns (omitted printing of 6 columns)</p><tr><th>1</th><td>Massachusetts Institute of Technology (MIT)</td><td>Engineering</td></tr><tr><th>2</th><td>California Institute of Technology (CIT)</td><td>Engineering</td></tr><tr><th>3</th><td>Harvey Mudd College</td><td>Engineering</td></tr><tr><th>4</th><td>Polytechnic University of New York, Brooklyn</td><td>Engineering</td></tr><tr><th>5</th><td>Cooper Union</td><td>Engineering</td></tr><tr><th>6</th><td>Worcester Polytechnic Institute (WPI)</td><td>Engineering</td></tr><tr><th>7</th><td>Carnegie Mellon University (CMU)</td><td>Engineering</td></tr><tr><th>8</th><td>Rensselaer Polytechnic Institute (RPI)</td><td>Engineering</td></tr><tr><th>9</th><td>Georgia Institute of Technology</td><td>Engineering</td></tr><tr><th>10</th><td>Colorado School of Mines</td><td>Engineering</td></tr><tr><th>11</th><td>Stevens Institute of Technology</td><td>Engineering</td></tr><tr><th>12</th><td>Illinois Institute of Technology (IIT)</td><td>Engineering</td></tr><tr><th>13</th><td>Wentworth Institute of Technology</td><td>Engineering</td></tr><tr><th>14</th><td>Virginia Polytechnic Institute and State University (Virginia Tech)</td><td>Engineering</td></tr><tr><th>15</th><td>South Dakota School of Mines &amp; Technology</td><td>Engineering</td></tr><tr><th>16</th><td>New Mexico Institute of Mining and Technology (New Mexico Tech)</td><td>Engineering</td></tr><tr><th>17</th><td>Rochester Institute of Technology (RIT)</td><td>Engineering</td></tr><tr><th>18</th><td>Embry-Riddle Aeronautical University (ERAU)</td><td>Engineering</td></tr><tr><th>19</th><td>Tennessee Technological University</td><td>Engineering</td></tr><tr><th>20</th><td>University of Illinois at Urbana-Champaign (UIUC)</td><td>Party</td></tr><tr><th>21</th><td>University of Maryland, College Park</td><td>Party</td></tr><tr><th>22</th><td>University of California, Santa Barbara (UCSB)</td><td>Party</td></tr><tr><th>23</th><td>University of Texas (UT) - Austin</td><td>Party</td></tr><tr><th>24</th><td>State University of New York (SUNY) at Albany</td><td>Party</td></tr><tr><th>25</th><td>University of Florida (UF)</td><td>Party</td></tr><tr><th>26</th><td>Louisiana State University (LSU)</td><td>Party</td></tr><tr><th>27</th><td>University of Georgia (UGA)</td><td>Party</td></tr><tr><th>28</th><td>Pennsylvania State University (PSU)</td><td>Party</td></tr><tr><th>29</th><td>Arizona State University (ASU)</td><td>Party</td></tr><tr><th>30</th><td>Indiana University (IU), Bloomington</td><td>Party</td></tr><tr><th>&vellip;</th><td>&vellip;</td><td>&vellip;</td></tr></tbody></table>"
      ],
      "text/latex": [
       "\\begin{tabular}{r|ccc}\n",
       "\t& School\\_Name & School\\_Type & \\\\\n",
       "\t\\hline\n",
       "\t& String⍰ & String⍰ & \\\\\n",
       "\t\\hline\n",
       "\t1 & Massachusetts Institute of Technology (MIT) & Engineering & $\\dots$ \\\\\n",
       "\t2 & California Institute of Technology (CIT) & Engineering & $\\dots$ \\\\\n",
       "\t3 & Harvey Mudd College & Engineering & $\\dots$ \\\\\n",
       "\t4 & Polytechnic University of New York, Brooklyn & Engineering & $\\dots$ \\\\\n",
       "\t5 & Cooper Union & Engineering & $\\dots$ \\\\\n",
       "\t6 & Worcester Polytechnic Institute (WPI) & Engineering & $\\dots$ \\\\\n",
       "\t7 & Carnegie Mellon University (CMU) & Engineering & $\\dots$ \\\\\n",
       "\t8 & Rensselaer Polytechnic Institute (RPI) & Engineering & $\\dots$ \\\\\n",
       "\t9 & Georgia Institute of Technology & Engineering & $\\dots$ \\\\\n",
       "\t10 & Colorado School of Mines & Engineering & $\\dots$ \\\\\n",
       "\t11 & Stevens Institute of Technology & Engineering & $\\dots$ \\\\\n",
       "\t12 & Illinois Institute of Technology (IIT) & Engineering & $\\dots$ \\\\\n",
       "\t13 & Wentworth Institute of Technology & Engineering & $\\dots$ \\\\\n",
       "\t14 & Virginia Polytechnic Institute and State University (Virginia Tech) & Engineering & $\\dots$ \\\\\n",
       "\t15 & South Dakota School of Mines \\& Technology & Engineering & $\\dots$ \\\\\n",
       "\t16 & New Mexico Institute of Mining and Technology (New Mexico Tech) & Engineering & $\\dots$ \\\\\n",
       "\t17 & Rochester Institute of Technology (RIT) & Engineering & $\\dots$ \\\\\n",
       "\t18 & Embry-Riddle Aeronautical University (ERAU) & Engineering & $\\dots$ \\\\\n",
       "\t19 & Tennessee Technological University & Engineering & $\\dots$ \\\\\n",
       "\t20 & University of Illinois at Urbana-Champaign (UIUC) & Party & $\\dots$ \\\\\n",
       "\t21 & University of Maryland, College Park & Party & $\\dots$ \\\\\n",
       "\t22 & University of California, Santa Barbara (UCSB) & Party & $\\dots$ \\\\\n",
       "\t23 & University of Texas (UT) - Austin & Party & $\\dots$ \\\\\n",
       "\t24 & State University of New York (SUNY) at Albany & Party & $\\dots$ \\\\\n",
       "\t25 & University of Florida (UF) & Party & $\\dots$ \\\\\n",
       "\t26 & Louisiana State University (LSU) & Party & $\\dots$ \\\\\n",
       "\t27 & University of Georgia (UGA) & Party & $\\dots$ \\\\\n",
       "\t28 & Pennsylvania State University (PSU) & Party & $\\dots$ \\\\\n",
       "\t29 & Arizona State University (ASU) & Party & $\\dots$ \\\\\n",
       "\t30 & Indiana University (IU), Bloomington & Party & $\\dots$ \\\\\n",
       "\t$\\dots$ & $\\dots$ & $\\dots$ &  \\\\\n",
       "\\end{tabular}\n"
      ],
      "text/plain": [
       "269×8 DataFrame. Omitted printing of 6 columns\n",
       "│ Row │ School_Name                                  │ School_Type │\n",
       "│     │ \u001b[90mUnion{Missing, String}\u001b[39m                       │ \u001b[90mString⍰\u001b[39m     │\n",
       "├─────┼──────────────────────────────────────────────┼─────────────┤\n",
       "│ 1   │ Massachusetts Institute of Technology (MIT)  │ Engineering │\n",
       "│ 2   │ California Institute of Technology (CIT)     │ Engineering │\n",
       "│ 3   │ Harvey Mudd College                          │ Engineering │\n",
       "│ 4   │ Polytechnic University of New York, Brooklyn │ Engineering │\n",
       "│ 5   │ Cooper Union                                 │ Engineering │\n",
       "│ 6   │ Worcester Polytechnic Institute (WPI)        │ Engineering │\n",
       "│ 7   │ Carnegie Mellon University (CMU)             │ Engineering │\n",
       "│ 8   │ Rensselaer Polytechnic Institute (RPI)       │ Engineering │\n",
       "│ 9   │ Georgia Institute of Technology              │ Engineering │\n",
       "│ 10  │ Colorado School of Mines                     │ Engineering │\n",
       "⋮\n",
       "│ 259 │ University of Southern Maine                 │ State       │\n",
       "│ 260 │ Arkansas State University (ASU)              │ State       │\n",
       "│ 261 │ Kent State University                        │ State       │\n",
       "│ 262 │ Tarleton State University (TSU)              │ State       │\n",
       "│ 263 │ University of Wisconsin (UW) - Green Bay     │ State       │\n",
       "│ 264 │ Morehead State University                    │ State       │\n",
       "│ 265 │ Austin Peay State University                 │ State       │\n",
       "│ 266 │ Pittsburg State University                   │ State       │\n",
       "│ 267 │ Southern Utah University                     │ State       │\n",
       "│ 268 │ Montana State University - Billings          │ State       │\n",
       "│ 269 │ Black Hills State University                 │ State       │"
      ]
     },
     "execution_count": 2,
     "metadata": {},
     "output_type": "execute_result"
    }
   ],
   "source": [
    "using CSV\n",
    "using DataFrames\n",
    "using Statistics\n",
    "\n",
    "df = readtable(\"Data/salaries-by-college-type.csv\", nastrings=[\"N/A\"],eltypes=[String, String, Float64, Float64, Float64, Float64, Float64, Float64])"
   ]
  },
  {
   "cell_type": "code",
   "execution_count": 3,
   "metadata": {},
   "outputs": [],
   "source": [
    "groups = groupby(df, :School_Type)\n",
    "types = Dict()\n",
    "for i = 1:length(groups)\n",
    "    types[groups[i][1,2]] = [mean(skipmissing(groups[i][:, 3])), \n",
    "                            mean(skipmissing(groups[i][:, 4])), \n",
    "                            mean(skipmissing(groups[i][:, 5])), \n",
    "                            mean(skipmissing(groups[i][:, 6])), \n",
    "                            mean(skipmissing(groups[i][:, 7])), \n",
    "                            mean(skipmissing(groups[i][:, 8]))]\n",
    "end"
   ]
  },
  {
   "cell_type": "code",
   "execution_count": 4,
   "metadata": {},
   "outputs": [
    {
     "data": {
      "text/plain": [
       "7-element Array{Array{T,1} where T,1}:\n",
       " [\"Engineering\", \"Liberal Arts\", \"Party\", \"Ivy League\", \"State\"]\n",
       " [59057.9, 45746.8, 45715.0, 60475.0, 44126.3]                  \n",
       " [1.03842e5, 89378.7, 84685.0, 120125.0, 78567.4]               \n",
       " [61793.3, 47478.6, 44052.6, 57900.0, 41886.3]                  \n",
       " [81384.2, 61936.2, 60005.0, 82787.5, 56689.7]                  \n",
       " [1.34868e5, 1.31077e5, 118100.0, 184125.0, 1.06971e5]          \n",
       " [1.73333e5, 1.91143e5, 1.66947e5, 269625.0, 1.47571e5]         "
      ]
     },
     "execution_count": 4,
     "metadata": {},
     "output_type": "execute_result"
    }
   ],
   "source": [
    "school_type = [i[1] for i in collect(types)]\n",
    "mean_vals = [i[2] for i in collect(types)]\n",
    "sms = [i[1] for i in mean_vals]\n",
    "mc_50 = [i[2] for i in mean_vals]\n",
    "mc_10 = [i[3] for i in mean_vals]\n",
    "mc_25 = [i[4] for i in mean_vals]\n",
    "mc_75 = [i[5] for i in mean_vals]\n",
    "mc_90 = [i[6] for i in mean_vals]\n",
    "data = [school_type, sms, mc_50, mc_10, mc_25, mc_75, mc_90]"
   ]
  },
  {
   "cell_type": "code",
   "execution_count": 5,
   "metadata": {
    "scrolled": true
   },
   "outputs": [
    {
     "data": {
      "text/html": [
       "<table class=\"data-frame\"><thead><tr><th></th><th>school_type</th><th>sms</th><th>mc_50</th><th>mc_10</th><th>mc_25</th><th>mc_75</th><th>mc_90</th></tr><tr><th></th><th>String</th><th>Float64</th><th>Float64</th><th>Float64</th><th>Float64</th><th>Float64</th><th>Float64</th></tr></thead><tbody><p>5 rows × 7 columns</p><tr><th>1</th><td>Engineering</td><td>59057.9</td><td>1.03842e5</td><td>61793.3</td><td>81384.2</td><td>1.34868e5</td><td>1.73333e5</td></tr><tr><th>2</th><td>Liberal Arts</td><td>45746.8</td><td>89378.7</td><td>47478.6</td><td>61936.2</td><td>1.31077e5</td><td>1.91143e5</td></tr><tr><th>3</th><td>Party</td><td>45715.0</td><td>84685.0</td><td>44052.6</td><td>60005.0</td><td>118100.0</td><td>1.66947e5</td></tr><tr><th>4</th><td>Ivy League</td><td>60475.0</td><td>120125.0</td><td>57900.0</td><td>82787.5</td><td>184125.0</td><td>269625.0</td></tr><tr><th>5</th><td>State</td><td>44126.3</td><td>78567.4</td><td>41886.3</td><td>56689.7</td><td>1.06971e5</td><td>1.47571e5</td></tr></tbody></table>"
      ],
      "text/latex": [
       "\\begin{tabular}{r|ccccccc}\n",
       "\t& school\\_type & sms & mc\\_50 & mc\\_10 & mc\\_25 & mc\\_75 & mc\\_90\\\\\n",
       "\t\\hline\n",
       "\t& String & Float64 & Float64 & Float64 & Float64 & Float64 & Float64\\\\\n",
       "\t\\hline\n",
       "\t1 & Engineering & 59057.9 & 1.03842e5 & 61793.3 & 81384.2 & 1.34868e5 & 1.73333e5 \\\\\n",
       "\t2 & Liberal Arts & 45746.8 & 89378.7 & 47478.6 & 61936.2 & 1.31077e5 & 1.91143e5 \\\\\n",
       "\t3 & Party & 45715.0 & 84685.0 & 44052.6 & 60005.0 & 118100.0 & 1.66947e5 \\\\\n",
       "\t4 & Ivy League & 60475.0 & 120125.0 & 57900.0 & 82787.5 & 184125.0 & 269625.0 \\\\\n",
       "\t5 & State & 44126.3 & 78567.4 & 41886.3 & 56689.7 & 1.06971e5 & 1.47571e5 \\\\\n",
       "\\end{tabular}\n"
      ],
      "text/plain": [
       "5×7 DataFrame. Omitted printing of 1 columns\n",
       "│ Row │ school_type  │ sms     │ mc_50     │ mc_10   │ mc_25   │ mc_75     │\n",
       "│     │ \u001b[90mString\u001b[39m       │ \u001b[90mFloat64\u001b[39m │ \u001b[90mFloat64\u001b[39m   │ \u001b[90mFloat64\u001b[39m │ \u001b[90mFloat64\u001b[39m │ \u001b[90mFloat64\u001b[39m   │\n",
       "├─────┼──────────────┼─────────┼───────────┼─────────┼─────────┼───────────┤\n",
       "│ 1   │ Engineering  │ 59057.9 │ 1.03842e5 │ 61793.3 │ 81384.2 │ 1.34868e5 │\n",
       "│ 2   │ Liberal Arts │ 45746.8 │ 89378.7   │ 47478.6 │ 61936.2 │ 1.31077e5 │\n",
       "│ 3   │ Party        │ 45715.0 │ 84685.0   │ 44052.6 │ 60005.0 │ 118100.0  │\n",
       "│ 4   │ Ivy League   │ 60475.0 │ 120125.0  │ 57900.0 │ 82787.5 │ 184125.0  │\n",
       "│ 5   │ State        │ 44126.3 │ 78567.4   │ 41886.3 │ 56689.7 │ 1.06971e5 │"
      ]
     },
     "execution_count": 5,
     "metadata": {},
     "output_type": "execute_result"
    }
   ],
   "source": [
    "means_df = DataFrame(data)\n",
    "rename!(means_df, :x1 => Symbol(\"school_type\"))\n",
    "rename!(means_df, :x2 => Symbol(\"sms\"))\n",
    "rename!(means_df, :x3 => Symbol(\"mc_50\"))\n",
    "rename!(means_df, :x4 => Symbol(\"mc_10\"))\n",
    "rename!(means_df, :x5 => Symbol(\"mc_25\"))\n",
    "rename!(means_df, :x6 => Symbol(\"mc_75\"))\n",
    "rename!(means_df, :x7 => Symbol(\"mc_90\"))"
   ]
  },
  {
   "cell_type": "code",
   "execution_count": 6,
   "metadata": {},
   "outputs": [
    {
     "data": {
      "text/plain": [
       "\"Data/type_means.csv\""
      ]
     },
     "execution_count": 6,
     "metadata": {},
     "output_type": "execute_result"
    }
   ],
   "source": [
    "CSV.write(\"Data/type_means.csv\", means_df)"
   ]
  }
 ],
 "metadata": {
  "kernelspec": {
   "display_name": "Julia 1.0.5",
   "language": "julia",
   "name": "julia-1.0"
  },
  "language_info": {
   "file_extension": ".jl",
   "mimetype": "application/julia",
   "name": "julia",
   "version": "1.0.5"
  }
 },
 "nbformat": 4,
 "nbformat_minor": 4
}
